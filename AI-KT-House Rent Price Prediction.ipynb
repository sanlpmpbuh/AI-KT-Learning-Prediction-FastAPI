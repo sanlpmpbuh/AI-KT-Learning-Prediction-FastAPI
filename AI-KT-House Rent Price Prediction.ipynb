{
 "cells": [
  {
   "cell_type": "markdown",
   "id": "f5d48314",
   "metadata": {},
   "source": [
    "# DATA CLEANING"
   ]
  },
  {
   "cell_type": "markdown",
   "id": "76694782",
   "metadata": {},
   "source": [
    "### Imports"
   ]
  },
  {
   "cell_type": "code",
   "execution_count": 1,
   "id": "69395811",
   "metadata": {},
   "outputs": [
    {
     "name": "stdout",
     "output_type": "stream",
     "text": [
      "Imports completed...\n"
     ]
    }
   ],
   "source": [
    "import pandas as pd\n",
    "import numpy as np\n",
    "import matplotlib.pyplot as plt\n",
    "from sklearn import preprocessing\n",
    "\n",
    "print('Imports completed...')"
   ]
  },
  {
   "cell_type": "markdown",
   "id": "3076a5fd",
   "metadata": {},
   "source": [
    "### Loading the Data"
   ]
  },
  {
   "cell_type": "code",
   "execution_count": 2,
   "id": "9d909837",
   "metadata": {},
   "outputs": [
    {
     "data": {
      "text/html": [
       "<div>\n",
       "<style scoped>\n",
       "    .dataframe tbody tr th:only-of-type {\n",
       "        vertical-align: middle;\n",
       "    }\n",
       "\n",
       "    .dataframe tbody tr th {\n",
       "        vertical-align: top;\n",
       "    }\n",
       "\n",
       "    .dataframe thead th {\n",
       "        text-align: right;\n",
       "    }\n",
       "</style>\n",
       "<table border=\"1\" class=\"dataframe\">\n",
       "  <thead>\n",
       "    <tr style=\"text-align: right;\">\n",
       "      <th></th>\n",
       "      <th>Posted On</th>\n",
       "      <th>BHK</th>\n",
       "      <th>Rent</th>\n",
       "      <th>Size</th>\n",
       "      <th>Floor</th>\n",
       "      <th>Area Type</th>\n",
       "      <th>Area Locality</th>\n",
       "      <th>City</th>\n",
       "      <th>Furnishing Status</th>\n",
       "      <th>Tenant Preferred</th>\n",
       "      <th>Bathroom</th>\n",
       "      <th>Point of Contact</th>\n",
       "    </tr>\n",
       "  </thead>\n",
       "  <tbody>\n",
       "    <tr>\n",
       "      <th>0</th>\n",
       "      <td>2022-05-18</td>\n",
       "      <td>2</td>\n",
       "      <td>10000</td>\n",
       "      <td>1100</td>\n",
       "      <td>Ground out of 2</td>\n",
       "      <td>Super Area</td>\n",
       "      <td>Bandel</td>\n",
       "      <td>Kolkata</td>\n",
       "      <td>Unfurnished</td>\n",
       "      <td>Bachelors/Family</td>\n",
       "      <td>2</td>\n",
       "      <td>Contact Owner</td>\n",
       "    </tr>\n",
       "    <tr>\n",
       "      <th>1</th>\n",
       "      <td>2022-05-13</td>\n",
       "      <td>2</td>\n",
       "      <td>20000</td>\n",
       "      <td>800</td>\n",
       "      <td>1 out of 3</td>\n",
       "      <td>Super Area</td>\n",
       "      <td>Phool Bagan, Kankurgachi</td>\n",
       "      <td>Kolkata</td>\n",
       "      <td>Semi-Furnished</td>\n",
       "      <td>Bachelors/Family</td>\n",
       "      <td>1</td>\n",
       "      <td>Contact Owner</td>\n",
       "    </tr>\n",
       "    <tr>\n",
       "      <th>2</th>\n",
       "      <td>2022-05-16</td>\n",
       "      <td>2</td>\n",
       "      <td>17000</td>\n",
       "      <td>1000</td>\n",
       "      <td>1 out of 3</td>\n",
       "      <td>Super Area</td>\n",
       "      <td>Salt Lake City Sector 2</td>\n",
       "      <td>Kolkata</td>\n",
       "      <td>Semi-Furnished</td>\n",
       "      <td>Bachelors/Family</td>\n",
       "      <td>1</td>\n",
       "      <td>Contact Owner</td>\n",
       "    </tr>\n",
       "  </tbody>\n",
       "</table>\n",
       "</div>"
      ],
      "text/plain": [
       "    Posted On  BHK   Rent  Size            Floor   Area Type  \\\n",
       "0  2022-05-18    2  10000  1100  Ground out of 2  Super Area   \n",
       "1  2022-05-13    2  20000   800       1 out of 3  Super Area   \n",
       "2  2022-05-16    2  17000  1000       1 out of 3  Super Area   \n",
       "\n",
       "              Area Locality     City Furnishing Status  Tenant Preferred  \\\n",
       "0                    Bandel  Kolkata       Unfurnished  Bachelors/Family   \n",
       "1  Phool Bagan, Kankurgachi  Kolkata    Semi-Furnished  Bachelors/Family   \n",
       "2   Salt Lake City Sector 2  Kolkata    Semi-Furnished  Bachelors/Family   \n",
       "\n",
       "   Bathroom Point of Contact  \n",
       "0         2    Contact Owner  \n",
       "1         1    Contact Owner  \n",
       "2         1    Contact Owner  "
      ]
     },
     "execution_count": 2,
     "metadata": {},
     "output_type": "execute_result"
    }
   ],
   "source": [
    "df = pd.read_csv(r'C:\\Users\\ShahwarN\\OneDrive - Quinnox Consultancy Services Ltd\\Documents\\Python Scripts\\House_Rent_Dataset.csv')\n",
    "df.head(3)"
   ]
  },
  {
   "cell_type": "markdown",
   "id": "e859b870",
   "metadata": {},
   "source": [
    "### Analysing the Data"
   ]
  },
  {
   "cell_type": "markdown",
   "id": "fb48f0d9",
   "metadata": {},
   "source": [
    "* **Shape**"
   ]
  },
  {
   "cell_type": "code",
   "execution_count": 3,
   "id": "c85fc31d",
   "metadata": {},
   "outputs": [
    {
     "data": {
      "text/plain": [
       "(4746, 12)"
      ]
     },
     "execution_count": 3,
     "metadata": {},
     "output_type": "execute_result"
    }
   ],
   "source": [
    "#rows,cols in data\n",
    "df.shape "
   ]
  },
  {
   "cell_type": "markdown",
   "id": "b5f45130",
   "metadata": {},
   "source": [
    "* **Info**"
   ]
  },
  {
   "cell_type": "code",
   "execution_count": 4,
   "id": "2efda179",
   "metadata": {},
   "outputs": [
    {
     "name": "stdout",
     "output_type": "stream",
     "text": [
      "<class 'pandas.core.frame.DataFrame'>\n",
      "RangeIndex: 4746 entries, 0 to 4745\n",
      "Data columns (total 12 columns):\n",
      " #   Column             Non-Null Count  Dtype \n",
      "---  ------             --------------  ----- \n",
      " 0   Posted On          4746 non-null   object\n",
      " 1   BHK                4746 non-null   int64 \n",
      " 2   Rent               4746 non-null   int64 \n",
      " 3   Size               4746 non-null   int64 \n",
      " 4   Floor              4746 non-null   object\n",
      " 5   Area Type          4746 non-null   object\n",
      " 6   Area Locality      4746 non-null   object\n",
      " 7   City               4746 non-null   object\n",
      " 8   Furnishing Status  4746 non-null   object\n",
      " 9   Tenant Preferred   4746 non-null   object\n",
      " 10  Bathroom           4746 non-null   int64 \n",
      " 11  Point of Contact   4746 non-null   object\n",
      "dtypes: int64(4), object(8)\n",
      "memory usage: 445.1+ KB\n"
     ]
    }
   ],
   "source": [
    "#info on data\n",
    "df.info()"
   ]
  },
  {
   "cell_type": "code",
   "execution_count": 5,
   "id": "a76eba9c",
   "metadata": {},
   "outputs": [],
   "source": [
    "#![Screenshot%20%28120%29.png](attachment:Screenshot%20%28120%29.png)\n",
    "# above is example of groupby"
   ]
  },
  {
   "cell_type": "markdown",
   "id": "29827a35",
   "metadata": {},
   "source": [
    "* **Group By**"
   ]
  },
  {
   "cell_type": "code",
   "execution_count": 6,
   "id": "864ef902",
   "metadata": {},
   "outputs": [
    {
     "data": {
      "text/plain": [
       "<pandas.core.groupby.generic.DataFrameGroupBy object at 0x0000022FCC3B8DF0>"
      ]
     },
     "execution_count": 6,
     "metadata": {},
     "output_type": "execute_result"
    }
   ],
   "source": [
    "df.groupby('Area Type') # it is an DF <object>, so referring to col is required, to access it"
   ]
  },
  {
   "cell_type": "code",
   "execution_count": 7,
   "id": "a9290937",
   "metadata": {
    "scrolled": true
   },
   "outputs": [
    {
     "data": {
      "text/plain": [
       "<pandas.core.groupby.generic.SeriesGroupBy object at 0x0000022FC7107BB0>"
      ]
     },
     "execution_count": 7,
     "metadata": {},
     "output_type": "execute_result"
    }
   ],
   "source": [
    "df.groupby('Area Type')['Area Type'] #Now we have access to the column. (Series <object>)"
   ]
  },
  {
   "cell_type": "code",
   "execution_count": 8,
   "id": "b63436a1",
   "metadata": {},
   "outputs": [
    {
     "data": {
      "text/plain": [
       "Area Type\n",
       "Built Area        2\n",
       "Carpet Area    2298\n",
       "Super Area     2446\n",
       "Name: Area Type, dtype: int64"
      ]
     },
     "execution_count": 8,
     "metadata": {},
     "output_type": "execute_result"
    }
   ],
   "source": [
    "df.groupby('Area Type')['Area Type'].count() #counting all unique elements in the COLUMN ='Area Type'"
   ]
  },
  {
   "cell_type": "code",
   "execution_count": 9,
   "id": "99e67f47",
   "metadata": {},
   "outputs": [
    {
     "data": {
      "text/plain": [
       "Super Area     2446\n",
       "Carpet Area    2298\n",
       "Built Area        2\n",
       "Name: Area Type, dtype: int64"
      ]
     },
     "execution_count": 9,
     "metadata": {},
     "output_type": "execute_result"
    }
   ],
   "source": [
    "#or\n",
    "\n",
    "df['Area Type'].value_counts()"
   ]
  },
  {
   "cell_type": "markdown",
   "id": "00a3aa69",
   "metadata": {},
   "source": [
    "* Replacing __IMPACTLESS__ values _(important)_"
   ]
  },
  {
   "cell_type": "code",
   "execution_count": 10,
   "id": "ab0922c0",
   "metadata": {},
   "outputs": [
    {
     "data": {
      "text/plain": [
       "Super Area     2448\n",
       "Carpet Area    2298\n",
       "Name: Area Type, dtype: int64"
      ]
     },
     "execution_count": 10,
     "metadata": {},
     "output_type": "execute_result"
    }
   ],
   "source": [
    "# We saw Built Area non functional we can replace with mode of area type\n",
    "df['Area Type'].replace({'Built Area': 'Super Area'}, inplace=True)\n",
    "df['Area Type'].value_counts() # you see it gets replaced."
   ]
  },
  {
   "cell_type": "code",
   "execution_count": 11,
   "id": "1e89b126",
   "metadata": {},
   "outputs": [
    {
     "data": {
      "text/plain": [
       "Contact Owner      3216\n",
       "Contact Agent      1529\n",
       "Contact Builder       1\n",
       "Name: Point of Contact, dtype: int64"
      ]
     },
     "execution_count": 11,
     "metadata": {},
     "output_type": "execute_result"
    }
   ],
   "source": [
    "#on similar lines...\n",
    "df['Point of Contact'].value_counts()\n",
    "\n",
    "# why to keep that single value...."
   ]
  },
  {
   "cell_type": "code",
   "execution_count": 12,
   "id": "6db7da2f",
   "metadata": {},
   "outputs": [
    {
     "data": {
      "text/plain": [
       "Contact Owner    3217\n",
       "Contact Agent    1529\n",
       "Name: Point of Contact, dtype: int64"
      ]
     },
     "execution_count": 12,
     "metadata": {},
     "output_type": "execute_result"
    }
   ],
   "source": [
    "df['Point of Contact'].replace({'Contact Builder':'Contact Owner'},inplace=True)\n",
    "df['Point of Contact'].value_counts()\n",
    "# now that is removed...(single point)"
   ]
  },
  {
   "cell_type": "code",
   "execution_count": 13,
   "id": "36853729",
   "metadata": {},
   "outputs": [],
   "source": [
    "#df.groupby(['Area Type','BHK']).first() #first row value , respectively"
   ]
  },
  {
   "cell_type": "code",
   "execution_count": 14,
   "id": "4c44d329",
   "metadata": {},
   "outputs": [
    {
     "data": {
      "text/html": [
       "<div>\n",
       "<style scoped>\n",
       "    .dataframe tbody tr th:only-of-type {\n",
       "        vertical-align: middle;\n",
       "    }\n",
       "\n",
       "    .dataframe tbody tr th {\n",
       "        vertical-align: top;\n",
       "    }\n",
       "\n",
       "    .dataframe thead th {\n",
       "        text-align: right;\n",
       "    }\n",
       "</style>\n",
       "<table border=\"1\" class=\"dataframe\">\n",
       "  <thead>\n",
       "    <tr style=\"text-align: right;\">\n",
       "      <th></th>\n",
       "      <th>Posted On</th>\n",
       "      <th>BHK</th>\n",
       "      <th>Rent</th>\n",
       "      <th>Size</th>\n",
       "      <th>Floor</th>\n",
       "      <th>Area Type</th>\n",
       "      <th>Area Locality</th>\n",
       "      <th>City</th>\n",
       "      <th>Furnishing Status</th>\n",
       "      <th>Tenant Preferred</th>\n",
       "      <th>Bathroom</th>\n",
       "      <th>Point of Contact</th>\n",
       "    </tr>\n",
       "  </thead>\n",
       "  <tbody>\n",
       "    <tr>\n",
       "      <th>0</th>\n",
       "      <td>2022-05-18</td>\n",
       "      <td>2</td>\n",
       "      <td>10000</td>\n",
       "      <td>1100</td>\n",
       "      <td>Ground out of 2</td>\n",
       "      <td>Super Area</td>\n",
       "      <td>Bandel</td>\n",
       "      <td>Kolkata</td>\n",
       "      <td>Unfurnished</td>\n",
       "      <td>Bachelors/Family</td>\n",
       "      <td>2</td>\n",
       "      <td>Contact Owner</td>\n",
       "    </tr>\n",
       "    <tr>\n",
       "      <th>1</th>\n",
       "      <td>2022-05-13</td>\n",
       "      <td>2</td>\n",
       "      <td>20000</td>\n",
       "      <td>800</td>\n",
       "      <td>1 out of 3</td>\n",
       "      <td>Super Area</td>\n",
       "      <td>Phool Bagan, Kankurgachi</td>\n",
       "      <td>Kolkata</td>\n",
       "      <td>Semi-Furnished</td>\n",
       "      <td>Bachelors/Family</td>\n",
       "      <td>1</td>\n",
       "      <td>Contact Owner</td>\n",
       "    </tr>\n",
       "    <tr>\n",
       "      <th>2</th>\n",
       "      <td>2022-05-16</td>\n",
       "      <td>2</td>\n",
       "      <td>17000</td>\n",
       "      <td>1000</td>\n",
       "      <td>1 out of 3</td>\n",
       "      <td>Super Area</td>\n",
       "      <td>Salt Lake City Sector 2</td>\n",
       "      <td>Kolkata</td>\n",
       "      <td>Semi-Furnished</td>\n",
       "      <td>Bachelors/Family</td>\n",
       "      <td>1</td>\n",
       "      <td>Contact Owner</td>\n",
       "    </tr>\n",
       "  </tbody>\n",
       "</table>\n",
       "</div>"
      ],
      "text/plain": [
       "    Posted On  BHK   Rent  Size            Floor   Area Type  \\\n",
       "0  2022-05-18    2  10000  1100  Ground out of 2  Super Area   \n",
       "1  2022-05-13    2  20000   800       1 out of 3  Super Area   \n",
       "2  2022-05-16    2  17000  1000       1 out of 3  Super Area   \n",
       "\n",
       "              Area Locality     City Furnishing Status  Tenant Preferred  \\\n",
       "0                    Bandel  Kolkata       Unfurnished  Bachelors/Family   \n",
       "1  Phool Bagan, Kankurgachi  Kolkata    Semi-Furnished  Bachelors/Family   \n",
       "2   Salt Lake City Sector 2  Kolkata    Semi-Furnished  Bachelors/Family   \n",
       "\n",
       "   Bathroom Point of Contact  \n",
       "0         2    Contact Owner  \n",
       "1         1    Contact Owner  \n",
       "2         1    Contact Owner  "
      ]
     },
     "execution_count": 14,
     "metadata": {},
     "output_type": "execute_result"
    }
   ],
   "source": [
    "# look at DF again\n",
    "df.head(3)"
   ]
  },
  {
   "cell_type": "markdown",
   "id": "b587dd74",
   "metadata": {},
   "source": [
    "* **DROP** (low impact column)"
   ]
  },
  {
   "cell_type": "code",
   "execution_count": 15,
   "id": "4f4a1f67",
   "metadata": {},
   "outputs": [
    {
     "data": {
      "text/html": [
       "<div>\n",
       "<style scoped>\n",
       "    .dataframe tbody tr th:only-of-type {\n",
       "        vertical-align: middle;\n",
       "    }\n",
       "\n",
       "    .dataframe tbody tr th {\n",
       "        vertical-align: top;\n",
       "    }\n",
       "\n",
       "    .dataframe thead th {\n",
       "        text-align: right;\n",
       "    }\n",
       "</style>\n",
       "<table border=\"1\" class=\"dataframe\">\n",
       "  <thead>\n",
       "    <tr style=\"text-align: right;\">\n",
       "      <th></th>\n",
       "      <th>BHK</th>\n",
       "      <th>Rent</th>\n",
       "      <th>Size</th>\n",
       "      <th>Floor</th>\n",
       "      <th>Area Type</th>\n",
       "      <th>Area Locality</th>\n",
       "      <th>City</th>\n",
       "      <th>Furnishing Status</th>\n",
       "      <th>Tenant Preferred</th>\n",
       "      <th>Bathroom</th>\n",
       "      <th>Point of Contact</th>\n",
       "    </tr>\n",
       "  </thead>\n",
       "  <tbody>\n",
       "    <tr>\n",
       "      <th>0</th>\n",
       "      <td>2</td>\n",
       "      <td>10000</td>\n",
       "      <td>1100</td>\n",
       "      <td>Ground out of 2</td>\n",
       "      <td>Super Area</td>\n",
       "      <td>Bandel</td>\n",
       "      <td>Kolkata</td>\n",
       "      <td>Unfurnished</td>\n",
       "      <td>Bachelors/Family</td>\n",
       "      <td>2</td>\n",
       "      <td>Contact Owner</td>\n",
       "    </tr>\n",
       "    <tr>\n",
       "      <th>1</th>\n",
       "      <td>2</td>\n",
       "      <td>20000</td>\n",
       "      <td>800</td>\n",
       "      <td>1 out of 3</td>\n",
       "      <td>Super Area</td>\n",
       "      <td>Phool Bagan, Kankurgachi</td>\n",
       "      <td>Kolkata</td>\n",
       "      <td>Semi-Furnished</td>\n",
       "      <td>Bachelors/Family</td>\n",
       "      <td>1</td>\n",
       "      <td>Contact Owner</td>\n",
       "    </tr>\n",
       "    <tr>\n",
       "      <th>2</th>\n",
       "      <td>2</td>\n",
       "      <td>17000</td>\n",
       "      <td>1000</td>\n",
       "      <td>1 out of 3</td>\n",
       "      <td>Super Area</td>\n",
       "      <td>Salt Lake City Sector 2</td>\n",
       "      <td>Kolkata</td>\n",
       "      <td>Semi-Furnished</td>\n",
       "      <td>Bachelors/Family</td>\n",
       "      <td>1</td>\n",
       "      <td>Contact Owner</td>\n",
       "    </tr>\n",
       "  </tbody>\n",
       "</table>\n",
       "</div>"
      ],
      "text/plain": [
       "   BHK   Rent  Size            Floor   Area Type             Area Locality  \\\n",
       "0    2  10000  1100  Ground out of 2  Super Area                    Bandel   \n",
       "1    2  20000   800       1 out of 3  Super Area  Phool Bagan, Kankurgachi   \n",
       "2    2  17000  1000       1 out of 3  Super Area   Salt Lake City Sector 2   \n",
       "\n",
       "      City Furnishing Status  Tenant Preferred  Bathroom Point of Contact  \n",
       "0  Kolkata       Unfurnished  Bachelors/Family         2    Contact Owner  \n",
       "1  Kolkata    Semi-Furnished  Bachelors/Family         1    Contact Owner  \n",
       "2  Kolkata    Semi-Furnished  Bachelors/Family         1    Contact Owner  "
      ]
     },
     "execution_count": 15,
     "metadata": {},
     "output_type": "execute_result"
    }
   ],
   "source": [
    "# All columns hold importance else we would have dropped few columns\n",
    "# let us !!--DROP--!! 'posted on',just to try out.\n",
    "\n",
    "df2 = df.drop(['Posted On'],axis='columns') #storing after dropping is important , to retain change\n",
    "df2.head(3)                                        #finally, 11 col , not 12"
   ]
  },
  {
   "cell_type": "markdown",
   "id": "5e38b6ed",
   "metadata": {},
   "source": [
    "* **NULL**(checking.dropping,replacing)"
   ]
  },
  {
   "cell_type": "code",
   "execution_count": 16,
   "id": "e35677c7",
   "metadata": {},
   "outputs": [
    {
     "data": {
      "text/html": [
       "<div>\n",
       "<style scoped>\n",
       "    .dataframe tbody tr th:only-of-type {\n",
       "        vertical-align: middle;\n",
       "    }\n",
       "\n",
       "    .dataframe tbody tr th {\n",
       "        vertical-align: top;\n",
       "    }\n",
       "\n",
       "    .dataframe thead th {\n",
       "        text-align: right;\n",
       "    }\n",
       "</style>\n",
       "<table border=\"1\" class=\"dataframe\">\n",
       "  <thead>\n",
       "    <tr style=\"text-align: right;\">\n",
       "      <th></th>\n",
       "      <th>BHK</th>\n",
       "      <th>Rent</th>\n",
       "      <th>Size</th>\n",
       "      <th>Floor</th>\n",
       "      <th>Area Type</th>\n",
       "      <th>Area Locality</th>\n",
       "      <th>City</th>\n",
       "      <th>Furnishing Status</th>\n",
       "      <th>Tenant Preferred</th>\n",
       "      <th>Bathroom</th>\n",
       "      <th>Point of Contact</th>\n",
       "    </tr>\n",
       "  </thead>\n",
       "  <tbody>\n",
       "    <tr>\n",
       "      <th>0</th>\n",
       "      <td>False</td>\n",
       "      <td>False</td>\n",
       "      <td>False</td>\n",
       "      <td>False</td>\n",
       "      <td>False</td>\n",
       "      <td>False</td>\n",
       "      <td>False</td>\n",
       "      <td>False</td>\n",
       "      <td>False</td>\n",
       "      <td>False</td>\n",
       "      <td>False</td>\n",
       "    </tr>\n",
       "    <tr>\n",
       "      <th>1</th>\n",
       "      <td>False</td>\n",
       "      <td>False</td>\n",
       "      <td>False</td>\n",
       "      <td>False</td>\n",
       "      <td>False</td>\n",
       "      <td>False</td>\n",
       "      <td>False</td>\n",
       "      <td>False</td>\n",
       "      <td>False</td>\n",
       "      <td>False</td>\n",
       "      <td>False</td>\n",
       "    </tr>\n",
       "    <tr>\n",
       "      <th>2</th>\n",
       "      <td>False</td>\n",
       "      <td>False</td>\n",
       "      <td>False</td>\n",
       "      <td>False</td>\n",
       "      <td>False</td>\n",
       "      <td>False</td>\n",
       "      <td>False</td>\n",
       "      <td>False</td>\n",
       "      <td>False</td>\n",
       "      <td>False</td>\n",
       "      <td>False</td>\n",
       "    </tr>\n",
       "  </tbody>\n",
       "</table>\n",
       "</div>"
      ],
      "text/plain": [
       "     BHK   Rent   Size  Floor  Area Type  Area Locality   City  \\\n",
       "0  False  False  False  False      False          False  False   \n",
       "1  False  False  False  False      False          False  False   \n",
       "2  False  False  False  False      False          False  False   \n",
       "\n",
       "   Furnishing Status  Tenant Preferred  Bathroom  Point of Contact  \n",
       "0              False             False     False             False  \n",
       "1              False             False     False             False  \n",
       "2              False             False     False             False  "
      ]
     },
     "execution_count": 16,
     "metadata": {},
     "output_type": "execute_result"
    }
   ],
   "source": [
    "#!!--NULL CHECKING--!!\n",
    "df2.isnull().head(3) # wherever NULL, it will show True, ig no null values in my data.\n",
    "                     # let us confirm that."
   ]
  },
  {
   "cell_type": "code",
   "execution_count": 17,
   "id": "466d3f4f",
   "metadata": {},
   "outputs": [
    {
     "data": {
      "text/plain": [
       "BHK                  0\n",
       "Rent                 0\n",
       "Size                 0\n",
       "Floor                0\n",
       "Area Type            0\n",
       "Area Locality        0\n",
       "City                 0\n",
       "Furnishing Status    0\n",
       "Tenant Preferred     0\n",
       "Bathroom             0\n",
       "Point of Contact     0\n",
       "dtype: int64"
      ]
     },
     "execution_count": 17,
     "metadata": {},
     "output_type": "execute_result"
    }
   ],
   "source": [
    "#checking the count of null values (total 1's or Trues basically)\n",
    "df2.isnull().sum() "
   ]
  },
  {
   "cell_type": "code",
   "execution_count": 18,
   "id": "c760ee24",
   "metadata": {},
   "outputs": [],
   "source": [
    "# if there were to be !!--NULL values and SMALL in quantity.--!!\n",
    "# we would rather DROP them\n",
    "\n",
    "# df2 = df2.dropna()"
   ]
  },
  {
   "cell_type": "code",
   "execution_count": 19,
   "id": "dbb61b17",
   "metadata": {},
   "outputs": [],
   "source": [
    "# if there were to be !!--NULL values and LARGE in quantity.--!!\n",
    "# we would rather REPLACE those values\n",
    "\n",
    "# mean_value = df2['Column Having NULL values'].mean()\n",
    "# df2['Column Having NULL values'].fillna(value = mean_value, inplace=True)"
   ]
  },
  {
   "cell_type": "markdown",
   "id": "d5fc8c22",
   "metadata": {},
   "source": [
    "* **Unique Values**(check)"
   ]
  },
  {
   "cell_type": "code",
   "execution_count": 20,
   "id": "9c34cf13",
   "metadata": {},
   "outputs": [
    {
     "data": {
      "text/plain": [
       "array([2, 1, 3, 6, 4, 5], dtype=int64)"
      ]
     },
     "execution_count": 20,
     "metadata": {},
     "output_type": "execute_result"
    }
   ],
   "source": [
    "df2['BHK'].unique()"
   ]
  },
  {
   "cell_type": "code",
   "execution_count": 21,
   "id": "031da8b8",
   "metadata": {},
   "outputs": [
    {
     "data": {
      "text/html": [
       "<div>\n",
       "<style scoped>\n",
       "    .dataframe tbody tr th:only-of-type {\n",
       "        vertical-align: middle;\n",
       "    }\n",
       "\n",
       "    .dataframe tbody tr th {\n",
       "        vertical-align: top;\n",
       "    }\n",
       "\n",
       "    .dataframe thead th {\n",
       "        text-align: right;\n",
       "    }\n",
       "</style>\n",
       "<table border=\"1\" class=\"dataframe\">\n",
       "  <thead>\n",
       "    <tr style=\"text-align: right;\">\n",
       "      <th></th>\n",
       "      <th>BHK</th>\n",
       "      <th>Rent</th>\n",
       "      <th>Size</th>\n",
       "      <th>Floor</th>\n",
       "      <th>Area Type</th>\n",
       "      <th>Area Locality</th>\n",
       "      <th>City</th>\n",
       "      <th>Furnishing Status</th>\n",
       "      <th>Tenant Preferred</th>\n",
       "      <th>Bathroom</th>\n",
       "      <th>Point of Contact</th>\n",
       "    </tr>\n",
       "  </thead>\n",
       "  <tbody>\n",
       "    <tr>\n",
       "      <th>0</th>\n",
       "      <td>2</td>\n",
       "      <td>10000</td>\n",
       "      <td>1100</td>\n",
       "      <td>Ground out of 2</td>\n",
       "      <td>Super Area</td>\n",
       "      <td>Bandel</td>\n",
       "      <td>Kolkata</td>\n",
       "      <td>Unfurnished</td>\n",
       "      <td>Bachelors/Family</td>\n",
       "      <td>2</td>\n",
       "      <td>Contact Owner</td>\n",
       "    </tr>\n",
       "    <tr>\n",
       "      <th>1</th>\n",
       "      <td>2</td>\n",
       "      <td>20000</td>\n",
       "      <td>800</td>\n",
       "      <td>1 out of 3</td>\n",
       "      <td>Super Area</td>\n",
       "      <td>Phool Bagan, Kankurgachi</td>\n",
       "      <td>Kolkata</td>\n",
       "      <td>Semi-Furnished</td>\n",
       "      <td>Bachelors/Family</td>\n",
       "      <td>1</td>\n",
       "      <td>Contact Owner</td>\n",
       "    </tr>\n",
       "    <tr>\n",
       "      <th>2</th>\n",
       "      <td>2</td>\n",
       "      <td>17000</td>\n",
       "      <td>1000</td>\n",
       "      <td>1 out of 3</td>\n",
       "      <td>Super Area</td>\n",
       "      <td>Salt Lake City Sector 2</td>\n",
       "      <td>Kolkata</td>\n",
       "      <td>Semi-Furnished</td>\n",
       "      <td>Bachelors/Family</td>\n",
       "      <td>1</td>\n",
       "      <td>Contact Owner</td>\n",
       "    </tr>\n",
       "  </tbody>\n",
       "</table>\n",
       "</div>"
      ],
      "text/plain": [
       "   BHK   Rent  Size            Floor   Area Type             Area Locality  \\\n",
       "0    2  10000  1100  Ground out of 2  Super Area                    Bandel   \n",
       "1    2  20000   800       1 out of 3  Super Area  Phool Bagan, Kankurgachi   \n",
       "2    2  17000  1000       1 out of 3  Super Area   Salt Lake City Sector 2   \n",
       "\n",
       "      City Furnishing Status  Tenant Preferred  Bathroom Point of Contact  \n",
       "0  Kolkata       Unfurnished  Bachelors/Family         2    Contact Owner  \n",
       "1  Kolkata    Semi-Furnished  Bachelors/Family         1    Contact Owner  \n",
       "2  Kolkata    Semi-Furnished  Bachelors/Family         1    Contact Owner  "
      ]
     },
     "execution_count": 21,
     "metadata": {},
     "output_type": "execute_result"
    }
   ],
   "source": [
    "#simply recalling data.\n",
    "df2.head(3)"
   ]
  },
  {
   "cell_type": "markdown",
   "id": "77f83b68",
   "metadata": {},
   "source": [
    "* **Improving**(column data)\n",
    "* The house price data set is quite pre-cleaned.\n",
    "* creating the dirt (in bhk col, introducing unnecessary string)."
   ]
  },
  {
   "cell_type": "markdown",
   "id": "91434929",
   "metadata": {},
   "source": [
    "\n",
    "\n",
    "\n",
    "* **Reading EXCEL**"
   ]
  },
  {
   "cell_type": "code",
   "execution_count": 22,
   "id": "3e309c6e",
   "metadata": {},
   "outputs": [],
   "source": [
    "#dummy_df = pd.read_excel(r\"C:\\Users\\ShahwarN\\OneDrive - Quinnox Consultancy Services Ltd\\Documents\\Python Scripts\\dummy_bhk.xlsx\")\n",
    "#dummy_df"
   ]
  },
  {
   "cell_type": "markdown",
   "id": "1e711bdf",
   "metadata": {},
   "source": [
    "* **Apply(func)** & **lambda**"
   ]
  },
  {
   "cell_type": "code",
   "execution_count": 23,
   "id": "60f23fc1",
   "metadata": {},
   "outputs": [],
   "source": [
    "#dummy_df['BHK'] = dummy_df['BHK'].apply(lambda x: int(x.split(' ')[0]))\n",
    "#dummy_df"
   ]
  },
  {
   "cell_type": "markdown",
   "id": "a08dda62",
   "metadata": {},
   "source": [
    "* **Conditional (data check)**"
   ]
  },
  {
   "cell_type": "code",
   "execution_count": 24,
   "id": "c206c8af",
   "metadata": {},
   "outputs": [],
   "source": [
    "#df2['BHK'].unique()"
   ]
  },
  {
   "cell_type": "code",
   "execution_count": 25,
   "id": "8c314c53",
   "metadata": {},
   "outputs": [],
   "source": [
    "#df2[df2.BHK>3].head(4)"
   ]
  },
  {
   "cell_type": "markdown",
   "id": "b354a9a6",
   "metadata": {},
   "source": [
    "# Feature Engineering\n",
    "\n",
    "* Feature engineering in ML consists of four main steps: Feature _Creation_, _Transformations_, Feature _Extraction_, and Feature _Selection_. Feature engineering consists of __creation, transformation, extraction, and selection of features, also known as variables.__\n",
    "* Basically, it is about creating new feature / probably a column in df."
   ]
  },
  {
   "cell_type": "code",
   "execution_count": 26,
   "id": "07ce75dd",
   "metadata": {},
   "outputs": [
    {
     "data": {
      "text/html": [
       "<div>\n",
       "<style scoped>\n",
       "    .dataframe tbody tr th:only-of-type {\n",
       "        vertical-align: middle;\n",
       "    }\n",
       "\n",
       "    .dataframe tbody tr th {\n",
       "        vertical-align: top;\n",
       "    }\n",
       "\n",
       "    .dataframe thead th {\n",
       "        text-align: right;\n",
       "    }\n",
       "</style>\n",
       "<table border=\"1\" class=\"dataframe\">\n",
       "  <thead>\n",
       "    <tr style=\"text-align: right;\">\n",
       "      <th></th>\n",
       "      <th>BHK</th>\n",
       "      <th>Rent</th>\n",
       "      <th>Size</th>\n",
       "      <th>Floor</th>\n",
       "      <th>Area Type</th>\n",
       "      <th>Area Locality</th>\n",
       "      <th>City</th>\n",
       "      <th>Furnishing Status</th>\n",
       "      <th>Tenant Preferred</th>\n",
       "      <th>Bathroom</th>\n",
       "      <th>Point of Contact</th>\n",
       "    </tr>\n",
       "  </thead>\n",
       "  <tbody>\n",
       "    <tr>\n",
       "      <th>0</th>\n",
       "      <td>2</td>\n",
       "      <td>10000</td>\n",
       "      <td>1100</td>\n",
       "      <td>Ground out of 2</td>\n",
       "      <td>Super Area</td>\n",
       "      <td>Bandel</td>\n",
       "      <td>Kolkata</td>\n",
       "      <td>Unfurnished</td>\n",
       "      <td>Bachelors/Family</td>\n",
       "      <td>2</td>\n",
       "      <td>Contact Owner</td>\n",
       "    </tr>\n",
       "    <tr>\n",
       "      <th>1</th>\n",
       "      <td>2</td>\n",
       "      <td>20000</td>\n",
       "      <td>800</td>\n",
       "      <td>1 out of 3</td>\n",
       "      <td>Super Area</td>\n",
       "      <td>Phool Bagan, Kankurgachi</td>\n",
       "      <td>Kolkata</td>\n",
       "      <td>Semi-Furnished</td>\n",
       "      <td>Bachelors/Family</td>\n",
       "      <td>1</td>\n",
       "      <td>Contact Owner</td>\n",
       "    </tr>\n",
       "    <tr>\n",
       "      <th>2</th>\n",
       "      <td>2</td>\n",
       "      <td>17000</td>\n",
       "      <td>1000</td>\n",
       "      <td>1 out of 3</td>\n",
       "      <td>Super Area</td>\n",
       "      <td>Salt Lake City Sector 2</td>\n",
       "      <td>Kolkata</td>\n",
       "      <td>Semi-Furnished</td>\n",
       "      <td>Bachelors/Family</td>\n",
       "      <td>1</td>\n",
       "      <td>Contact Owner</td>\n",
       "    </tr>\n",
       "    <tr>\n",
       "      <th>3</th>\n",
       "      <td>2</td>\n",
       "      <td>10000</td>\n",
       "      <td>800</td>\n",
       "      <td>1 out of 2</td>\n",
       "      <td>Super Area</td>\n",
       "      <td>Dumdum Park</td>\n",
       "      <td>Kolkata</td>\n",
       "      <td>Unfurnished</td>\n",
       "      <td>Bachelors/Family</td>\n",
       "      <td>1</td>\n",
       "      <td>Contact Owner</td>\n",
       "    </tr>\n",
       "    <tr>\n",
       "      <th>4</th>\n",
       "      <td>2</td>\n",
       "      <td>7500</td>\n",
       "      <td>850</td>\n",
       "      <td>1 out of 2</td>\n",
       "      <td>Carpet Area</td>\n",
       "      <td>South Dum Dum</td>\n",
       "      <td>Kolkata</td>\n",
       "      <td>Unfurnished</td>\n",
       "      <td>Bachelors</td>\n",
       "      <td>1</td>\n",
       "      <td>Contact Owner</td>\n",
       "    </tr>\n",
       "  </tbody>\n",
       "</table>\n",
       "</div>"
      ],
      "text/plain": [
       "   BHK   Rent  Size            Floor    Area Type             Area Locality  \\\n",
       "0    2  10000  1100  Ground out of 2   Super Area                    Bandel   \n",
       "1    2  20000   800       1 out of 3   Super Area  Phool Bagan, Kankurgachi   \n",
       "2    2  17000  1000       1 out of 3   Super Area   Salt Lake City Sector 2   \n",
       "3    2  10000   800       1 out of 2   Super Area               Dumdum Park   \n",
       "4    2   7500   850       1 out of 2  Carpet Area             South Dum Dum   \n",
       "\n",
       "      City Furnishing Status  Tenant Preferred  Bathroom Point of Contact  \n",
       "0  Kolkata       Unfurnished  Bachelors/Family         2    Contact Owner  \n",
       "1  Kolkata    Semi-Furnished  Bachelors/Family         1    Contact Owner  \n",
       "2  Kolkata    Semi-Furnished  Bachelors/Family         1    Contact Owner  \n",
       "3  Kolkata       Unfurnished  Bachelors/Family         1    Contact Owner  \n",
       "4  Kolkata       Unfurnished         Bachelors         1    Contact Owner  "
      ]
     },
     "execution_count": 26,
     "metadata": {},
     "output_type": "execute_result"
    }
   ],
   "source": [
    "# let us create a copy.\n",
    "# let us experiment on the \n",
    "df3 = df2.copy()\n",
    "df3.head()"
   ]
  },
  {
   "cell_type": "code",
   "execution_count": 27,
   "id": "5b3bf8d4",
   "metadata": {},
   "outputs": [
    {
     "data": {
      "text/html": [
       "<div>\n",
       "<style scoped>\n",
       "    .dataframe tbody tr th:only-of-type {\n",
       "        vertical-align: middle;\n",
       "    }\n",
       "\n",
       "    .dataframe tbody tr th {\n",
       "        vertical-align: top;\n",
       "    }\n",
       "\n",
       "    .dataframe thead th {\n",
       "        text-align: right;\n",
       "    }\n",
       "</style>\n",
       "<table border=\"1\" class=\"dataframe\">\n",
       "  <thead>\n",
       "    <tr style=\"text-align: right;\">\n",
       "      <th></th>\n",
       "      <th>BHK</th>\n",
       "      <th>Rent</th>\n",
       "      <th>Size</th>\n",
       "      <th>Floor</th>\n",
       "      <th>Area Type</th>\n",
       "      <th>Area Locality</th>\n",
       "      <th>City</th>\n",
       "      <th>Furnishing Status</th>\n",
       "      <th>Tenant Preferred</th>\n",
       "      <th>Bathroom</th>\n",
       "      <th>Point of Contact</th>\n",
       "      <th>Rent per Size</th>\n",
       "    </tr>\n",
       "  </thead>\n",
       "  <tbody>\n",
       "    <tr>\n",
       "      <th>0</th>\n",
       "      <td>2</td>\n",
       "      <td>10000</td>\n",
       "      <td>1100</td>\n",
       "      <td>Ground out of 2</td>\n",
       "      <td>Super Area</td>\n",
       "      <td>Bandel</td>\n",
       "      <td>Kolkata</td>\n",
       "      <td>Unfurnished</td>\n",
       "      <td>Bachelors/Family</td>\n",
       "      <td>2</td>\n",
       "      <td>Contact Owner</td>\n",
       "      <td>9.090909</td>\n",
       "    </tr>\n",
       "    <tr>\n",
       "      <th>1</th>\n",
       "      <td>2</td>\n",
       "      <td>20000</td>\n",
       "      <td>800</td>\n",
       "      <td>1 out of 3</td>\n",
       "      <td>Super Area</td>\n",
       "      <td>Phool Bagan, Kankurgachi</td>\n",
       "      <td>Kolkata</td>\n",
       "      <td>Semi-Furnished</td>\n",
       "      <td>Bachelors/Family</td>\n",
       "      <td>1</td>\n",
       "      <td>Contact Owner</td>\n",
       "      <td>25.000000</td>\n",
       "    </tr>\n",
       "    <tr>\n",
       "      <th>2</th>\n",
       "      <td>2</td>\n",
       "      <td>17000</td>\n",
       "      <td>1000</td>\n",
       "      <td>1 out of 3</td>\n",
       "      <td>Super Area</td>\n",
       "      <td>Salt Lake City Sector 2</td>\n",
       "      <td>Kolkata</td>\n",
       "      <td>Semi-Furnished</td>\n",
       "      <td>Bachelors/Family</td>\n",
       "      <td>1</td>\n",
       "      <td>Contact Owner</td>\n",
       "      <td>17.000000</td>\n",
       "    </tr>\n",
       "  </tbody>\n",
       "</table>\n",
       "</div>"
      ],
      "text/plain": [
       "   BHK   Rent  Size            Floor   Area Type             Area Locality  \\\n",
       "0    2  10000  1100  Ground out of 2  Super Area                    Bandel   \n",
       "1    2  20000   800       1 out of 3  Super Area  Phool Bagan, Kankurgachi   \n",
       "2    2  17000  1000       1 out of 3  Super Area   Salt Lake City Sector 2   \n",
       "\n",
       "      City Furnishing Status  Tenant Preferred  Bathroom Point of Contact  \\\n",
       "0  Kolkata       Unfurnished  Bachelors/Family         2    Contact Owner   \n",
       "1  Kolkata    Semi-Furnished  Bachelors/Family         1    Contact Owner   \n",
       "2  Kolkata    Semi-Furnished  Bachelors/Family         1    Contact Owner   \n",
       "\n",
       "   Rent per Size  \n",
       "0       9.090909  \n",
       "1      25.000000  \n",
       "2      17.000000  "
      ]
     },
     "execution_count": 27,
     "metadata": {},
     "output_type": "execute_result"
    }
   ],
   "source": [
    "df3['Rent per Size'] = df3['Rent']/df3['Size']  #'Rent per Size' ,a new feature/column gets added.\n",
    "df3.head(3)\n",
    "\n",
    "# BUT try not to feature engineering using the DEPENDENT variable. \n",
    "# It will affect the model efficiency.\n",
    "# next cell,better we drop it."
   ]
  },
  {
   "cell_type": "code",
   "execution_count": 28,
   "id": "3ae78eac",
   "metadata": {},
   "outputs": [
    {
     "data": {
      "text/html": [
       "<div>\n",
       "<style scoped>\n",
       "    .dataframe tbody tr th:only-of-type {\n",
       "        vertical-align: middle;\n",
       "    }\n",
       "\n",
       "    .dataframe tbody tr th {\n",
       "        vertical-align: top;\n",
       "    }\n",
       "\n",
       "    .dataframe thead th {\n",
       "        text-align: right;\n",
       "    }\n",
       "</style>\n",
       "<table border=\"1\" class=\"dataframe\">\n",
       "  <thead>\n",
       "    <tr style=\"text-align: right;\">\n",
       "      <th></th>\n",
       "      <th>BHK</th>\n",
       "      <th>Rent</th>\n",
       "      <th>Size</th>\n",
       "      <th>Floor</th>\n",
       "      <th>Area Type</th>\n",
       "      <th>Area Locality</th>\n",
       "      <th>City</th>\n",
       "      <th>Furnishing Status</th>\n",
       "      <th>Tenant Preferred</th>\n",
       "      <th>Bathroom</th>\n",
       "      <th>Point of Contact</th>\n",
       "    </tr>\n",
       "  </thead>\n",
       "  <tbody>\n",
       "    <tr>\n",
       "      <th>0</th>\n",
       "      <td>2</td>\n",
       "      <td>10000</td>\n",
       "      <td>1100</td>\n",
       "      <td>Ground out of 2</td>\n",
       "      <td>Super Area</td>\n",
       "      <td>Bandel</td>\n",
       "      <td>Kolkata</td>\n",
       "      <td>Unfurnished</td>\n",
       "      <td>Bachelors/Family</td>\n",
       "      <td>2</td>\n",
       "      <td>Contact Owner</td>\n",
       "    </tr>\n",
       "    <tr>\n",
       "      <th>1</th>\n",
       "      <td>2</td>\n",
       "      <td>20000</td>\n",
       "      <td>800</td>\n",
       "      <td>1 out of 3</td>\n",
       "      <td>Super Area</td>\n",
       "      <td>Phool Bagan, Kankurgachi</td>\n",
       "      <td>Kolkata</td>\n",
       "      <td>Semi-Furnished</td>\n",
       "      <td>Bachelors/Family</td>\n",
       "      <td>1</td>\n",
       "      <td>Contact Owner</td>\n",
       "    </tr>\n",
       "    <tr>\n",
       "      <th>2</th>\n",
       "      <td>2</td>\n",
       "      <td>17000</td>\n",
       "      <td>1000</td>\n",
       "      <td>1 out of 3</td>\n",
       "      <td>Super Area</td>\n",
       "      <td>Salt Lake City Sector 2</td>\n",
       "      <td>Kolkata</td>\n",
       "      <td>Semi-Furnished</td>\n",
       "      <td>Bachelors/Family</td>\n",
       "      <td>1</td>\n",
       "      <td>Contact Owner</td>\n",
       "    </tr>\n",
       "  </tbody>\n",
       "</table>\n",
       "</div>"
      ],
      "text/plain": [
       "   BHK   Rent  Size            Floor   Area Type             Area Locality  \\\n",
       "0    2  10000  1100  Ground out of 2  Super Area                    Bandel   \n",
       "1    2  20000   800       1 out of 3  Super Area  Phool Bagan, Kankurgachi   \n",
       "2    2  17000  1000       1 out of 3  Super Area   Salt Lake City Sector 2   \n",
       "\n",
       "      City Furnishing Status  Tenant Preferred  Bathroom Point of Contact  \n",
       "0  Kolkata       Unfurnished  Bachelors/Family         2    Contact Owner  \n",
       "1  Kolkata    Semi-Furnished  Bachelors/Family         1    Contact Owner  \n",
       "2  Kolkata    Semi-Furnished  Bachelors/Family         1    Contact Owner  "
      ]
     },
     "execution_count": 28,
     "metadata": {},
     "output_type": "execute_result"
    }
   ],
   "source": [
    "#Let us drop it,\n",
    "df3 = df3.drop(['Rent per Size'],axis='columns')\n",
    "df3.head(3)"
   ]
  },
  {
   "cell_type": "code",
   "execution_count": 29,
   "id": "44accefb",
   "metadata": {},
   "outputs": [],
   "source": [
    "#check unique locations\n",
    "#df3.City.unique() #if col name has space in between, the below way will work"
   ]
  },
  {
   "cell_type": "code",
   "execution_count": 30,
   "id": "796d9f60",
   "metadata": {},
   "outputs": [],
   "source": [
    "#or\n",
    "#df3['City'].unique()"
   ]
  },
  {
   "cell_type": "code",
   "execution_count": 31,
   "id": "6e421944",
   "metadata": {
    "scrolled": false
   },
   "outputs": [
    {
     "data": {
      "text/plain": [
       "2235"
      ]
     },
     "execution_count": 31,
     "metadata": {},
     "output_type": "execute_result"
    }
   ],
   "source": [
    "len(df3['Area Locality'].unique()) # too many localities #dimensionality curse #high dimensionality problem\n",
    "                                   # but anyway let us keep it,those single localities may be in different cities."
   ]
  },
  {
   "cell_type": "code",
   "execution_count": 32,
   "id": "0a77512d",
   "metadata": {},
   "outputs": [],
   "source": [
    "#df3.groupby('Area Locality')['Area Locality'].count()"
   ]
  },
  {
   "cell_type": "code",
   "execution_count": 33,
   "id": "67c49ac4",
   "metadata": {},
   "outputs": [
    {
     "data": {
      "text/plain": [
       "Bandra West                                37\n",
       "Gachibowli                                 29\n",
       "Electronic City                            24\n",
       "Velachery                                  22\n",
       "Miyapur, NH 9                              22\n",
       "                                           ..\n",
       "Kengeri Upanagara                           1\n",
       "Ittamadu, Banashankari, Outer Ring Road     1\n",
       "Rmv Extension, Armane Nagar                 1\n",
       "snv la                                      1\n",
       "Manikonda, Hyderabad                        1\n",
       "Name: Area Locality, Length: 2235, dtype: int64"
      ]
     },
     "execution_count": 33,
     "metadata": {},
     "output_type": "execute_result"
    }
   ],
   "source": [
    "#or\n",
    "df3['Area Locality'].value_counts()"
   ]
  },
  {
   "cell_type": "code",
   "execution_count": 34,
   "id": "233c7c93",
   "metadata": {},
   "outputs": [],
   "source": [
    "#df3['Area Locality'] = df['Area Locality'].apply(lambda x: x.strip())\n",
    "#area_locality = df3.groupby('Area Locality')['Area Locality'].count()\n",
    "#area_locality"
   ]
  },
  {
   "cell_type": "code",
   "execution_count": 35,
   "id": "626bfe98",
   "metadata": {},
   "outputs": [],
   "source": [
    "#type(area_locality) # ofcourse it will be a series(column)"
   ]
  },
  {
   "cell_type": "code",
   "execution_count": 36,
   "id": "17434ec8",
   "metadata": {},
   "outputs": [
    {
     "name": "stdout",
     "output_type": "stream",
     "text": [
      "Bandra West                                37\n",
      "Gachibowli                                 29\n",
      "Electronic City                            24\n",
      "Velachery                                  22\n",
      "Miyapur, NH 9                              22\n",
      "                                           ..\n",
      "Kengeri Upanagara                           1\n",
      "Ittamadu, Banashankari, Outer Ring Road     1\n",
      "Rmv Extension, Armane Nagar                 1\n",
      "snv la                                      1\n",
      "Manikonda, Hyderabad                        1\n",
      "Name: Area Locality, Length: 2235, dtype: int64\n"
     ]
    },
    {
     "data": {
      "text/plain": [
       "pandas.core.series.Series"
      ]
     },
     "execution_count": 36,
     "metadata": {},
     "output_type": "execute_result"
    }
   ],
   "source": [
    "area_locality = df3['Area Locality'].value_counts()\n",
    "print(area_locality)\n",
    "type(area_locality)"
   ]
  },
  {
   "cell_type": "code",
   "execution_count": 37,
   "id": "3bcbdce9",
   "metadata": {},
   "outputs": [
    {
     "data": {
      "text/plain": [
       "Bandra West                                  37\n",
       "Gachibowli                                   29\n",
       "Electronic City                              24\n",
       "Velachery                                    22\n",
       "Miyapur, NH 9                                22\n",
       "                                             ..\n",
       "Gouri Shankar Nagar Colony, Banjara Hills     1\n",
       "Domalguda, Himayath Nagar, NH 7               1\n",
       "Ayodhya Nagar, Quthbullapur                   1\n",
       "Lalaguda, Secunderabad                        1\n",
       "Manikonda, Hyderabad                          1\n",
       "Name: Area Locality, Length: 2235, dtype: int64"
      ]
     },
     "execution_count": 37,
     "metadata": {},
     "output_type": "execute_result"
    }
   ],
   "source": [
    "area_locality.sort_values(ascending = False) # NO descending parameter"
   ]
  },
  {
   "cell_type": "code",
   "execution_count": 38,
   "id": "8e77b2a9",
   "metadata": {},
   "outputs": [],
   "source": [
    "#area_locality_equal_1 = area_locality[area_locality==1]\n",
    "#area_locality_equal_1"
   ]
  },
  {
   "cell_type": "code",
   "execution_count": 39,
   "id": "6b65cdde",
   "metadata": {},
   "outputs": [
    {
     "data": {
      "text/html": [
       "<div>\n",
       "<style scoped>\n",
       "    .dataframe tbody tr th:only-of-type {\n",
       "        vertical-align: middle;\n",
       "    }\n",
       "\n",
       "    .dataframe tbody tr th {\n",
       "        vertical-align: top;\n",
       "    }\n",
       "\n",
       "    .dataframe thead th {\n",
       "        text-align: right;\n",
       "    }\n",
       "</style>\n",
       "<table border=\"1\" class=\"dataframe\">\n",
       "  <thead>\n",
       "    <tr style=\"text-align: right;\">\n",
       "      <th></th>\n",
       "      <th>BHK</th>\n",
       "      <th>Rent</th>\n",
       "      <th>Size</th>\n",
       "      <th>Floor</th>\n",
       "      <th>Area Type</th>\n",
       "      <th>Area Locality</th>\n",
       "      <th>City</th>\n",
       "      <th>Furnishing Status</th>\n",
       "      <th>Tenant Preferred</th>\n",
       "      <th>Bathroom</th>\n",
       "      <th>Point of Contact</th>\n",
       "    </tr>\n",
       "  </thead>\n",
       "  <tbody>\n",
       "    <tr>\n",
       "      <th>0</th>\n",
       "      <td>2</td>\n",
       "      <td>10000</td>\n",
       "      <td>1100</td>\n",
       "      <td>Ground out of 2</td>\n",
       "      <td>Super Area</td>\n",
       "      <td>Bandel</td>\n",
       "      <td>Kolkata</td>\n",
       "      <td>Unfurnished</td>\n",
       "      <td>Bachelors/Family</td>\n",
       "      <td>2</td>\n",
       "      <td>Contact Owner</td>\n",
       "    </tr>\n",
       "    <tr>\n",
       "      <th>1</th>\n",
       "      <td>2</td>\n",
       "      <td>20000</td>\n",
       "      <td>800</td>\n",
       "      <td>1 out of 3</td>\n",
       "      <td>Super Area</td>\n",
       "      <td>Phool Bagan, Kankurgachi</td>\n",
       "      <td>Kolkata</td>\n",
       "      <td>Semi-Furnished</td>\n",
       "      <td>Bachelors/Family</td>\n",
       "      <td>1</td>\n",
       "      <td>Contact Owner</td>\n",
       "    </tr>\n",
       "    <tr>\n",
       "      <th>2</th>\n",
       "      <td>2</td>\n",
       "      <td>17000</td>\n",
       "      <td>1000</td>\n",
       "      <td>1 out of 3</td>\n",
       "      <td>Super Area</td>\n",
       "      <td>Salt Lake City Sector 2</td>\n",
       "      <td>Kolkata</td>\n",
       "      <td>Semi-Furnished</td>\n",
       "      <td>Bachelors/Family</td>\n",
       "      <td>1</td>\n",
       "      <td>Contact Owner</td>\n",
       "    </tr>\n",
       "  </tbody>\n",
       "</table>\n",
       "</div>"
      ],
      "text/plain": [
       "   BHK   Rent  Size            Floor   Area Type             Area Locality  \\\n",
       "0    2  10000  1100  Ground out of 2  Super Area                    Bandel   \n",
       "1    2  20000   800       1 out of 3  Super Area  Phool Bagan, Kankurgachi   \n",
       "2    2  17000  1000       1 out of 3  Super Area   Salt Lake City Sector 2   \n",
       "\n",
       "      City Furnishing Status  Tenant Preferred  Bathroom Point of Contact  \n",
       "0  Kolkata       Unfurnished  Bachelors/Family         2    Contact Owner  \n",
       "1  Kolkata    Semi-Furnished  Bachelors/Family         1    Contact Owner  \n",
       "2  Kolkata    Semi-Furnished  Bachelors/Family         1    Contact Owner  "
      ]
     },
     "execution_count": 39,
     "metadata": {},
     "output_type": "execute_result"
    }
   ],
   "source": [
    "#df3['Area Locality'] = df3['Area Locality'].apply(lambda x: 'other' if x in area_locality_equal_1 else x)\n",
    "df3.head(3)"
   ]
  },
  {
   "cell_type": "code",
   "execution_count": 40,
   "id": "a8671323",
   "metadata": {},
   "outputs": [
    {
     "data": {
      "text/plain": [
       "2235"
      ]
     },
     "execution_count": 40,
     "metadata": {},
     "output_type": "execute_result"
    }
   ],
   "source": [
    "len(df3['Area Locality'].unique()) # if I grouped smaller values under 'one name', \n",
    "                                   # The unique values would have decreased."
   ]
  },
  {
   "cell_type": "markdown",
   "id": "07292a9d",
   "metadata": {},
   "source": [
    "* Trying Feature Engineering on Floor"
   ]
  },
  {
   "cell_type": "code",
   "execution_count": 41,
   "id": "ec7d51ef",
   "metadata": {},
   "outputs": [
    {
     "data": {
      "text/plain": [
       "0       Ground out of 2\n",
       "1            1 out of 3\n",
       "2            1 out of 3\n",
       "3            1 out of 2\n",
       "4            1 out of 2\n",
       "             ...       \n",
       "4741         3 out of 5\n",
       "4742         1 out of 4\n",
       "4743         3 out of 5\n",
       "4744       23 out of 34\n",
       "4745         4 out of 5\n",
       "Name: Floor, Length: 4746, dtype: object"
      ]
     },
     "execution_count": 41,
     "metadata": {},
     "output_type": "execute_result"
    }
   ],
   "source": [
    "df3['Floor']"
   ]
  },
  {
   "cell_type": "code",
   "execution_count": 42,
   "id": "71d7a00a",
   "metadata": {},
   "outputs": [
    {
     "data": {
      "text/plain": [
       "array(['Ground out of 2', '1 out of 3', '1 out of 2', 'Ground out of 1',\n",
       "       'Ground out of 4', '1 out of 4', '1 out of 1', 'Ground out of 3',\n",
       "       '2 out of 3', '4 out of 5', '2 out of 2', '2 out of 5',\n",
       "       '4 out of 14', '3 out of 3', '5 out of 5', '4 out of 4',\n",
       "       '7 out of 8', '2 out of 4', '3 out of 4', '1 out of 5',\n",
       "       '8 out of 5', 'Ground out of 6', '2 out of 1',\n",
       "       'Upper Basement out of 4', 'Ground out of 5', '3 out of 5',\n",
       "       '11 out of 19', '5 out of 10', '11 out of 14',\n",
       "       'Lower Basement out of 2', '2 out of 7', '4 out of 10',\n",
       "       '7 out of 10', '2 out of 13', '6 out of 7', '4 out of 7',\n",
       "       '14 out of 14', '43 out of 78', '2 out of 8', '13 out of 18',\n",
       "       '5 out of 12', '18 out of 24', '3 out of 7', '17 out of 31',\n",
       "       '11 out of 21', '7 out of 19', '14 out of 23', '9 out of 20',\n",
       "       'Upper Basement out of 9', '19 out of 24', '3 out of 21',\n",
       "       '1 out of 22', '8 out of 8', '6 out of 12', '4 out of 58',\n",
       "       'Upper Basement out of 16', '60 out of 66', '34 out of 48',\n",
       "       '5 out of 8', '5 out of 14', '14 out of 40', '5 out of 7',\n",
       "       '9 out of 22', '12 out of 18', '26 out of 44', '1 out of 8',\n",
       "       '25 out of 42', '25 out of 41', '53 out of 78', 'Ground out of 7',\n",
       "       '14 out of 20', '13 out of 20', '16 out of 23', '10 out of 18',\n",
       "       '39 out of 60', '16 out of 21', '10 out of 32', '4 out of 8',\n",
       "       '12 out of 24', '32 out of 41', '3 out of 30', '13 out of 21',\n",
       "       '9 out of 29', '47 out of 89', '7 out of 41', '28 out of 30',\n",
       "       '13 out of 15', '6 out of 21', '8 out of 16', '2 out of 6',\n",
       "       '5 out of 19', '3 out of 11', '17 out of 42', '10 out of 12',\n",
       "       '8 out of 28', '9 out of 15', '14 out of 22', '18 out of 40',\n",
       "       '9 out of 17', '12 out of 45', '25 out of 35', '7 out of 15',\n",
       "       '10 out of 16', 'Upper Basement out of 20', '5 out of 20',\n",
       "       'Upper Basement out of 40', '5 out of 18', '34 out of 58',\n",
       "       '4 out of 6', '20 out of 22', '12 out of 19', '15 out of 18',\n",
       "       '65 out of 78', '6 out of 16', '17 out of 22', '6 out of 24',\n",
       "       '40 out of 75', '19 out of 38', '15 out of 31', '11 out of 28',\n",
       "       '10 out of 22', '17 out of 24', '15 out of 19', '9 out of 10',\n",
       "       '7 out of 12', '8 out of 20', '11 out of 13', '9 out of 19',\n",
       "       '37 out of 51', '6 out of 11', '8 out of 15', '11 out of 20',\n",
       "       '10 out of 23', 'Upper Basement out of 10', '7 out of 23',\n",
       "       '4 out of 11', '17 out of 43', '7 out of 22', '14 out of 18',\n",
       "       '6 out of 10', '8 out of 12', '3 out of 18', '7 out of 7',\n",
       "       '14 out of 58', '18 out of 23', '19 out of 19', '13 out of 14',\n",
       "       '7 out of 11', '11 out of 22', 'Upper Basement out of 30',\n",
       "       '12 out of 14', '16 out of 31', '12 out of 13', '11 out of 51',\n",
       "       '2 out of 12', '22 out of 24', '7 out of 14', '5 out of 13',\n",
       "       '7 out of 21', '14 out of 21', '17 out of 25', '9 out of 14',\n",
       "       '8 out of 27', '3 out of 6', '17 out of 20', '18 out of 22',\n",
       "       '1 out of 7', '9 out of 30', '3 out of 8', '11 out of 26',\n",
       "       '17 out of 27', '4 out of 12', '12 out of 16', '10 out of 24',\n",
       "       '65 out of 76', '7 out of 9', '17 out of 60', '10 out of 11',\n",
       "       '18 out of 25', '5 out of 11', '15 out of 17', '15 out of 23',\n",
       "       '5 out of 17', '3 out of 28', '5 out of 24', '16 out of 32',\n",
       "       '21 out of 22', '7 out of 13', '9 out of 12', '15 out of 32',\n",
       "       '18 out of 27', '15 out of 16', '18 out of 45', '15 out of 15',\n",
       "       '6 out of 14', '1 out of 20', '16 out of 36', '30 out of 44',\n",
       "       '30 out of 37', '2 out of 9', '12 out of 22', '4 out of 9',\n",
       "       '2 out of 22', '5 out of 6', '6 out of 18', '35 out of 55',\n",
       "       '16 out of 29', '30 out of 45', '5 out of 9', '16 out of 25',\n",
       "       '33 out of 42', '4 out of 16', '13 out of 23', '9 out of 38',\n",
       "       '6 out of 8', '8 out of 13', '19 out of 30', '10 out of 14',\n",
       "       '11 out of 24', '9 out of 16', '9 out of 31', '4 out of 15',\n",
       "       '3 out of 9', '22 out of 30', '3 out of 58', '1 out of 9',\n",
       "       '53 out of 60', '5 out of 22', '15 out of 22', '19 out of 21',\n",
       "       '9 out of 40', 'Ground out of 8', '44 out of 75', '8 out of 17',\n",
       "       '3 out of 14', '12 out of 31', '26 out of 42', '2 out of 45',\n",
       "       '12 out of 68', '17 out of 36', '10 out of 28', '41 out of 41',\n",
       "       '14 out of 68', '14 out of 17', '15 out of 20', '46 out of 76',\n",
       "       '12 out of 20', '20 out of 30', '18 out of 32', '10 out of 25',\n",
       "       '17 out of 29', '10 out of 31', '10 out of 15', '13 out of 16',\n",
       "       '8 out of 10', '18 out of 21', '27 out of 58', '1 out of 6',\n",
       "       '19 out of 25', '3 out of 15', '25 out of 43', '8 out of 14',\n",
       "       '11 out of 12', '9 out of 21', '10 out of 13', '45 out of 77',\n",
       "       '18 out of 19', '10 out of 20', '12 out of 29',\n",
       "       'Lower Basement out of 18', '15 out of 24', '48 out of 68',\n",
       "       '12 out of 42', '16 out of 22', '35 out of 68', '18 out of 30',\n",
       "       '11 out of 31', '50 out of 75', '18 out of 26', '12 out of 27',\n",
       "       '16 out of 20', '24 out of 55', '16 out of 37',\n",
       "       'Upper Basement out of 7', '6 out of 15', '11 out of 27',\n",
       "       '11 out of 23', '3 out of 12', '14 out of 15', '23 out of 25',\n",
       "       '14 out of 48', '29 out of 35', '15 out of 36', '15 out of 25',\n",
       "       '15 out of 28', '3 out of 36', '8 out of 11', '6 out of 20',\n",
       "       '23 out of 23', '5 out of 15', '16 out of 18', '2 out of 10',\n",
       "       '40 out of 50', '25 out of 28', '12 out of 17', '34 out of 40',\n",
       "       'Upper Basement out of 22', '8 out of 23', '5 out of 21',\n",
       "       '32 out of 59', '20 out of 32', '9 out of 18', '10 out of 37',\n",
       "       '25 out of 48', '4 out of 22', '8 out of 18', '11 out of 11',\n",
       "       '5 out of 23', '60 out of 77', '11 out of 18', '4 out of 20',\n",
       "       '5 out of 16', '3 out of 13', '30 out of 58', '15 out of 43',\n",
       "       '7 out of 16', '18 out of 28', '9 out of 55', '11 out of 25',\n",
       "       '49 out of 55', '7 out of 27', '14 out of 27', '16 out of 27',\n",
       "       '25 out of 50', '6 out of 30', '21 out of 23', '8 out of 58',\n",
       "       '20 out of 41', '3 out of 62', '4 out of 13', '7 out of 17',\n",
       "       '12 out of 21', '28 out of 39', '15 out of 58', '6 out of 23',\n",
       "       '36 out of 45', '9 out of 28', '6 out of 45', '22 out of 52',\n",
       "       '10 out of 19', '21 out of 58', '48 out of 54', '7 out of 28',\n",
       "       '11 out of 15', '19 out of 22', '15 out of 37', '2 out of 17',\n",
       "       '76 out of 78', '3 out of 10', '20 out of 27', '8 out of 36',\n",
       "       '14 out of 33', '21 out of 21', '12 out of 25', '18 out of 29',\n",
       "       '14 out of 35', '7 out of 20', '20 out of 37', '9 out of 35',\n",
       "       '27 out of 27', '15 out of 60', '19 out of 33', '18 out of 20',\n",
       "       '13 out of 40', '9 out of 11', '8 out of 22', '6 out of 13',\n",
       "       '20 out of 31', '27 out of 45', '19 out of 20', '32 out of 46',\n",
       "       '19 out of 85', '3 out of 23', '34 out of 46', '4 out of 27',\n",
       "       '19 out of 27', '35 out of 60', '21 out of 33', '25 out of 52',\n",
       "       '2 out of 24', '24 out of 24', '18 out of 33', '1 out of 10',\n",
       "       '45 out of 60', '60 out of 71', '36 out of 81', '24 out of 60',\n",
       "       '16 out of 38', '8 out of 45', 'Ground out of 16', '8 out of 32',\n",
       "       '10 out of 10', '23 out of 40', '7 out of 18', '8 out of 19',\n",
       "       '6 out of 17', '16 out of 34', 'Ground out of 12', '6 out of 9',\n",
       "       'Ground out of 18', '20 out of 25', '3 out of 22', '9 out of 32',\n",
       "       '26 out of 32', '17 out of 18', '24 out of 25', '19 out of 26',\n",
       "       '17 out of 19', '1 out of 13', '14 out of 30', '8 out of 9',\n",
       "       '3 out of 17', 'Lower Basement out of 3', '12 out of 23',\n",
       "       'Ground out of 9', '1 out of 24', '1 out of 12', '3', 'Ground',\n",
       "       '15 out of 29', '20 out of 20', '14 out of 29',\n",
       "       'Lower Basement out of 1', '13 out of 17', '1 out of 14',\n",
       "       'Upper Basement out of 2', '2 out of 14', '24 out of 31',\n",
       "       '2 out of 32', '2 out of 16', '9 out of 13', '1 out of 11',\n",
       "       '6 out of 29', '9 out of 9', '28 out of 31', '1 out of 15',\n",
       "       'Ground out of 14', '2 out of 11', '19 out of 31', '1 out of 16',\n",
       "       '25 out of 32', '11 out of 16', '11 out of 17',\n",
       "       'Upper Basement out of 3', '4 out of 24', '1 out of 19',\n",
       "       '7 out of 30', '16 out of 19', 'Upper Basement out of 5',\n",
       "       'Ground out of 13', '2 out of 25', '23 out of 30', '4 out of 30',\n",
       "       '13 out of 25', '23 out of 35', 'Ground out of 10', '5 out of 34',\n",
       "       '20 out of 35', '1', '4 out of 31', '4 out of 26', '24 out of 33',\n",
       "       '4 out of 17', '1 out of 35', '11 out of 35', 'Ground out of 15',\n",
       "       'Ground out of 27', '15 out of 30', '12 out of 30', '23 out of 34'],\n",
       "      dtype=object)"
      ]
     },
     "execution_count": 42,
     "metadata": {},
     "output_type": "execute_result"
    }
   ],
   "source": [
    "df3['Floor'].unique()"
   ]
  },
  {
   "cell_type": "code",
   "execution_count": 43,
   "id": "fdb6cf46",
   "metadata": {},
   "outputs": [],
   "source": [
    "# splitting the string\n",
    "df3 = df3.join(df3['Floor'].str.split(' out of ', 1, expand = True).rename(columns={0:'House Floor', 1:'Total Floor'}))"
   ]
  },
  {
   "cell_type": "code",
   "execution_count": 44,
   "id": "e4615f1d",
   "metadata": {},
   "outputs": [
    {
     "data": {
      "text/html": [
       "<div>\n",
       "<style scoped>\n",
       "    .dataframe tbody tr th:only-of-type {\n",
       "        vertical-align: middle;\n",
       "    }\n",
       "\n",
       "    .dataframe tbody tr th {\n",
       "        vertical-align: top;\n",
       "    }\n",
       "\n",
       "    .dataframe thead th {\n",
       "        text-align: right;\n",
       "    }\n",
       "</style>\n",
       "<table border=\"1\" class=\"dataframe\">\n",
       "  <thead>\n",
       "    <tr style=\"text-align: right;\">\n",
       "      <th></th>\n",
       "      <th>BHK</th>\n",
       "      <th>Rent</th>\n",
       "      <th>Size</th>\n",
       "      <th>Floor</th>\n",
       "      <th>Area Type</th>\n",
       "      <th>Area Locality</th>\n",
       "      <th>City</th>\n",
       "      <th>Furnishing Status</th>\n",
       "      <th>Tenant Preferred</th>\n",
       "      <th>Bathroom</th>\n",
       "      <th>Point of Contact</th>\n",
       "      <th>House Floor</th>\n",
       "      <th>Total Floor</th>\n",
       "    </tr>\n",
       "  </thead>\n",
       "  <tbody>\n",
       "    <tr>\n",
       "      <th>0</th>\n",
       "      <td>2</td>\n",
       "      <td>10000</td>\n",
       "      <td>1100</td>\n",
       "      <td>Ground out of 2</td>\n",
       "      <td>Super Area</td>\n",
       "      <td>Bandel</td>\n",
       "      <td>Kolkata</td>\n",
       "      <td>Unfurnished</td>\n",
       "      <td>Bachelors/Family</td>\n",
       "      <td>2</td>\n",
       "      <td>Contact Owner</td>\n",
       "      <td>Ground</td>\n",
       "      <td>2</td>\n",
       "    </tr>\n",
       "    <tr>\n",
       "      <th>1</th>\n",
       "      <td>2</td>\n",
       "      <td>20000</td>\n",
       "      <td>800</td>\n",
       "      <td>1 out of 3</td>\n",
       "      <td>Super Area</td>\n",
       "      <td>Phool Bagan, Kankurgachi</td>\n",
       "      <td>Kolkata</td>\n",
       "      <td>Semi-Furnished</td>\n",
       "      <td>Bachelors/Family</td>\n",
       "      <td>1</td>\n",
       "      <td>Contact Owner</td>\n",
       "      <td>1</td>\n",
       "      <td>3</td>\n",
       "    </tr>\n",
       "    <tr>\n",
       "      <th>2</th>\n",
       "      <td>2</td>\n",
       "      <td>17000</td>\n",
       "      <td>1000</td>\n",
       "      <td>1 out of 3</td>\n",
       "      <td>Super Area</td>\n",
       "      <td>Salt Lake City Sector 2</td>\n",
       "      <td>Kolkata</td>\n",
       "      <td>Semi-Furnished</td>\n",
       "      <td>Bachelors/Family</td>\n",
       "      <td>1</td>\n",
       "      <td>Contact Owner</td>\n",
       "      <td>1</td>\n",
       "      <td>3</td>\n",
       "    </tr>\n",
       "  </tbody>\n",
       "</table>\n",
       "</div>"
      ],
      "text/plain": [
       "   BHK   Rent  Size            Floor   Area Type             Area Locality  \\\n",
       "0    2  10000  1100  Ground out of 2  Super Area                    Bandel   \n",
       "1    2  20000   800       1 out of 3  Super Area  Phool Bagan, Kankurgachi   \n",
       "2    2  17000  1000       1 out of 3  Super Area   Salt Lake City Sector 2   \n",
       "\n",
       "      City Furnishing Status  Tenant Preferred  Bathroom Point of Contact  \\\n",
       "0  Kolkata       Unfurnished  Bachelors/Family         2    Contact Owner   \n",
       "1  Kolkata    Semi-Furnished  Bachelors/Family         1    Contact Owner   \n",
       "2  Kolkata    Semi-Furnished  Bachelors/Family         1    Contact Owner   \n",
       "\n",
       "  House Floor Total Floor  \n",
       "0      Ground           2  \n",
       "1           1           3  \n",
       "2           1           3  "
      ]
     },
     "execution_count": 44,
     "metadata": {},
     "output_type": "execute_result"
    }
   ],
   "source": [
    "#checking the manipulated dataframe now\n",
    "df3.head(3)"
   ]
  },
  {
   "cell_type": "code",
   "execution_count": 45,
   "id": "ce978a1a",
   "metadata": {},
   "outputs": [
    {
     "data": {
      "text/plain": [
       "0       Ground\n",
       "1            1\n",
       "2            1\n",
       "3            1\n",
       "4            1\n",
       "         ...  \n",
       "4741         3\n",
       "4742         1\n",
       "4743         3\n",
       "4744        23\n",
       "4745         4\n",
       "Name: House Floor, Length: 4746, dtype: object"
      ]
     },
     "execution_count": 45,
     "metadata": {},
     "output_type": "execute_result"
    }
   ],
   "source": [
    "df3['House Floor']"
   ]
  },
  {
   "cell_type": "code",
   "execution_count": 46,
   "id": "11ba7e84",
   "metadata": {},
   "outputs": [
    {
     "data": {
      "text/html": [
       "<div>\n",
       "<style scoped>\n",
       "    .dataframe tbody tr th:only-of-type {\n",
       "        vertical-align: middle;\n",
       "    }\n",
       "\n",
       "    .dataframe tbody tr th {\n",
       "        vertical-align: top;\n",
       "    }\n",
       "\n",
       "    .dataframe thead th {\n",
       "        text-align: right;\n",
       "    }\n",
       "</style>\n",
       "<table border=\"1\" class=\"dataframe\">\n",
       "  <thead>\n",
       "    <tr style=\"text-align: right;\">\n",
       "      <th></th>\n",
       "      <th>BHK</th>\n",
       "      <th>Rent</th>\n",
       "      <th>Size</th>\n",
       "      <th>Floor</th>\n",
       "      <th>Area Type</th>\n",
       "      <th>Area Locality</th>\n",
       "      <th>City</th>\n",
       "      <th>Furnishing Status</th>\n",
       "      <th>Tenant Preferred</th>\n",
       "      <th>Bathroom</th>\n",
       "      <th>Point of Contact</th>\n",
       "      <th>House Floor</th>\n",
       "      <th>Total Floor</th>\n",
       "    </tr>\n",
       "  </thead>\n",
       "  <tbody>\n",
       "    <tr>\n",
       "      <th>0</th>\n",
       "      <td>2</td>\n",
       "      <td>10000</td>\n",
       "      <td>1100</td>\n",
       "      <td>Ground out of 2</td>\n",
       "      <td>Super Area</td>\n",
       "      <td>Bandel</td>\n",
       "      <td>Kolkata</td>\n",
       "      <td>Unfurnished</td>\n",
       "      <td>Bachelors/Family</td>\n",
       "      <td>2</td>\n",
       "      <td>Contact Owner</td>\n",
       "      <td>0</td>\n",
       "      <td>2</td>\n",
       "    </tr>\n",
       "    <tr>\n",
       "      <th>1</th>\n",
       "      <td>2</td>\n",
       "      <td>20000</td>\n",
       "      <td>800</td>\n",
       "      <td>1 out of 3</td>\n",
       "      <td>Super Area</td>\n",
       "      <td>Phool Bagan, Kankurgachi</td>\n",
       "      <td>Kolkata</td>\n",
       "      <td>Semi-Furnished</td>\n",
       "      <td>Bachelors/Family</td>\n",
       "      <td>1</td>\n",
       "      <td>Contact Owner</td>\n",
       "      <td>1</td>\n",
       "      <td>3</td>\n",
       "    </tr>\n",
       "    <tr>\n",
       "      <th>2</th>\n",
       "      <td>2</td>\n",
       "      <td>17000</td>\n",
       "      <td>1000</td>\n",
       "      <td>1 out of 3</td>\n",
       "      <td>Super Area</td>\n",
       "      <td>Salt Lake City Sector 2</td>\n",
       "      <td>Kolkata</td>\n",
       "      <td>Semi-Furnished</td>\n",
       "      <td>Bachelors/Family</td>\n",
       "      <td>1</td>\n",
       "      <td>Contact Owner</td>\n",
       "      <td>1</td>\n",
       "      <td>3</td>\n",
       "    </tr>\n",
       "    <tr>\n",
       "      <th>3</th>\n",
       "      <td>2</td>\n",
       "      <td>10000</td>\n",
       "      <td>800</td>\n",
       "      <td>1 out of 2</td>\n",
       "      <td>Super Area</td>\n",
       "      <td>Dumdum Park</td>\n",
       "      <td>Kolkata</td>\n",
       "      <td>Unfurnished</td>\n",
       "      <td>Bachelors/Family</td>\n",
       "      <td>1</td>\n",
       "      <td>Contact Owner</td>\n",
       "      <td>1</td>\n",
       "      <td>2</td>\n",
       "    </tr>\n",
       "    <tr>\n",
       "      <th>4</th>\n",
       "      <td>2</td>\n",
       "      <td>7500</td>\n",
       "      <td>850</td>\n",
       "      <td>1 out of 2</td>\n",
       "      <td>Carpet Area</td>\n",
       "      <td>South Dum Dum</td>\n",
       "      <td>Kolkata</td>\n",
       "      <td>Unfurnished</td>\n",
       "      <td>Bachelors</td>\n",
       "      <td>1</td>\n",
       "      <td>Contact Owner</td>\n",
       "      <td>1</td>\n",
       "      <td>2</td>\n",
       "    </tr>\n",
       "    <tr>\n",
       "      <th>5</th>\n",
       "      <td>2</td>\n",
       "      <td>7000</td>\n",
       "      <td>600</td>\n",
       "      <td>Ground out of 1</td>\n",
       "      <td>Super Area</td>\n",
       "      <td>Thakurpukur</td>\n",
       "      <td>Kolkata</td>\n",
       "      <td>Unfurnished</td>\n",
       "      <td>Bachelors/Family</td>\n",
       "      <td>2</td>\n",
       "      <td>Contact Owner</td>\n",
       "      <td>0</td>\n",
       "      <td>1</td>\n",
       "    </tr>\n",
       "    <tr>\n",
       "      <th>6</th>\n",
       "      <td>2</td>\n",
       "      <td>10000</td>\n",
       "      <td>700</td>\n",
       "      <td>Ground out of 4</td>\n",
       "      <td>Super Area</td>\n",
       "      <td>Malancha</td>\n",
       "      <td>Kolkata</td>\n",
       "      <td>Unfurnished</td>\n",
       "      <td>Bachelors</td>\n",
       "      <td>2</td>\n",
       "      <td>Contact Agent</td>\n",
       "      <td>0</td>\n",
       "      <td>4</td>\n",
       "    </tr>\n",
       "    <tr>\n",
       "      <th>7</th>\n",
       "      <td>1</td>\n",
       "      <td>5000</td>\n",
       "      <td>250</td>\n",
       "      <td>1 out of 2</td>\n",
       "      <td>Super Area</td>\n",
       "      <td>Malancha</td>\n",
       "      <td>Kolkata</td>\n",
       "      <td>Unfurnished</td>\n",
       "      <td>Bachelors</td>\n",
       "      <td>1</td>\n",
       "      <td>Contact Agent</td>\n",
       "      <td>1</td>\n",
       "      <td>2</td>\n",
       "    </tr>\n",
       "    <tr>\n",
       "      <th>8</th>\n",
       "      <td>2</td>\n",
       "      <td>26000</td>\n",
       "      <td>800</td>\n",
       "      <td>1 out of 2</td>\n",
       "      <td>Carpet Area</td>\n",
       "      <td>Palm Avenue Kolkata, Ballygunge</td>\n",
       "      <td>Kolkata</td>\n",
       "      <td>Unfurnished</td>\n",
       "      <td>Bachelors</td>\n",
       "      <td>2</td>\n",
       "      <td>Contact Agent</td>\n",
       "      <td>1</td>\n",
       "      <td>2</td>\n",
       "    </tr>\n",
       "    <tr>\n",
       "      <th>9</th>\n",
       "      <td>2</td>\n",
       "      <td>10000</td>\n",
       "      <td>1000</td>\n",
       "      <td>1 out of 3</td>\n",
       "      <td>Carpet Area</td>\n",
       "      <td>Natunhat</td>\n",
       "      <td>Kolkata</td>\n",
       "      <td>Semi-Furnished</td>\n",
       "      <td>Bachelors/Family</td>\n",
       "      <td>2</td>\n",
       "      <td>Contact Owner</td>\n",
       "      <td>1</td>\n",
       "      <td>3</td>\n",
       "    </tr>\n",
       "    <tr>\n",
       "      <th>10</th>\n",
       "      <td>3</td>\n",
       "      <td>25000</td>\n",
       "      <td>1200</td>\n",
       "      <td>1 out of 4</td>\n",
       "      <td>Carpet Area</td>\n",
       "      <td>Action Area 1, Rajarhat Newtown</td>\n",
       "      <td>Kolkata</td>\n",
       "      <td>Semi-Furnished</td>\n",
       "      <td>Bachelors/Family</td>\n",
       "      <td>2</td>\n",
       "      <td>Contact Agent</td>\n",
       "      <td>1</td>\n",
       "      <td>4</td>\n",
       "    </tr>\n",
       "    <tr>\n",
       "      <th>11</th>\n",
       "      <td>1</td>\n",
       "      <td>5000</td>\n",
       "      <td>400</td>\n",
       "      <td>1 out of 1</td>\n",
       "      <td>Carpet Area</td>\n",
       "      <td>Keshtopur</td>\n",
       "      <td>Kolkata</td>\n",
       "      <td>Unfurnished</td>\n",
       "      <td>Bachelors/Family</td>\n",
       "      <td>1</td>\n",
       "      <td>Contact Agent</td>\n",
       "      <td>1</td>\n",
       "      <td>1</td>\n",
       "    </tr>\n",
       "    <tr>\n",
       "      <th>12</th>\n",
       "      <td>1</td>\n",
       "      <td>6500</td>\n",
       "      <td>250</td>\n",
       "      <td>1 out of 4</td>\n",
       "      <td>Carpet Area</td>\n",
       "      <td>Tarulia, Keshtopur</td>\n",
       "      <td>Kolkata</td>\n",
       "      <td>Furnished</td>\n",
       "      <td>Bachelors</td>\n",
       "      <td>1</td>\n",
       "      <td>Contact Owner</td>\n",
       "      <td>1</td>\n",
       "      <td>4</td>\n",
       "    </tr>\n",
       "    <tr>\n",
       "      <th>13</th>\n",
       "      <td>1</td>\n",
       "      <td>5500</td>\n",
       "      <td>375</td>\n",
       "      <td>1 out of 2</td>\n",
       "      <td>Carpet Area</td>\n",
       "      <td>Dum Dum Metro</td>\n",
       "      <td>Kolkata</td>\n",
       "      <td>Unfurnished</td>\n",
       "      <td>Bachelors/Family</td>\n",
       "      <td>1</td>\n",
       "      <td>Contact Agent</td>\n",
       "      <td>1</td>\n",
       "      <td>2</td>\n",
       "    </tr>\n",
       "    <tr>\n",
       "      <th>14</th>\n",
       "      <td>3</td>\n",
       "      <td>8500</td>\n",
       "      <td>900</td>\n",
       "      <td>Ground out of 2</td>\n",
       "      <td>Carpet Area</td>\n",
       "      <td>Paschim Barisha</td>\n",
       "      <td>Kolkata</td>\n",
       "      <td>Unfurnished</td>\n",
       "      <td>Bachelors</td>\n",
       "      <td>2</td>\n",
       "      <td>Contact Owner</td>\n",
       "      <td>0</td>\n",
       "      <td>2</td>\n",
       "    </tr>\n",
       "    <tr>\n",
       "      <th>15</th>\n",
       "      <td>3</td>\n",
       "      <td>40000</td>\n",
       "      <td>1286</td>\n",
       "      <td>1 out of 1</td>\n",
       "      <td>Carpet Area</td>\n",
       "      <td>New Town Action Area 1</td>\n",
       "      <td>Kolkata</td>\n",
       "      <td>Furnished</td>\n",
       "      <td>Bachelors/Family</td>\n",
       "      <td>2</td>\n",
       "      <td>Contact Owner</td>\n",
       "      <td>1</td>\n",
       "      <td>1</td>\n",
       "    </tr>\n",
       "    <tr>\n",
       "      <th>16</th>\n",
       "      <td>2</td>\n",
       "      <td>6000</td>\n",
       "      <td>600</td>\n",
       "      <td>1 out of 2</td>\n",
       "      <td>Super Area</td>\n",
       "      <td>Barasat</td>\n",
       "      <td>Kolkata</td>\n",
       "      <td>Semi-Furnished</td>\n",
       "      <td>Bachelors/Family</td>\n",
       "      <td>1</td>\n",
       "      <td>Contact Owner</td>\n",
       "      <td>1</td>\n",
       "      <td>2</td>\n",
       "    </tr>\n",
       "    <tr>\n",
       "      <th>17</th>\n",
       "      <td>2</td>\n",
       "      <td>10000</td>\n",
       "      <td>800</td>\n",
       "      <td>Ground out of 2</td>\n",
       "      <td>Super Area</td>\n",
       "      <td>Behala</td>\n",
       "      <td>Kolkata</td>\n",
       "      <td>Unfurnished</td>\n",
       "      <td>Bachelors/Family</td>\n",
       "      <td>1</td>\n",
       "      <td>Contact Owner</td>\n",
       "      <td>0</td>\n",
       "      <td>2</td>\n",
       "    </tr>\n",
       "    <tr>\n",
       "      <th>18</th>\n",
       "      <td>2</td>\n",
       "      <td>11000</td>\n",
       "      <td>2000</td>\n",
       "      <td>Ground out of 3</td>\n",
       "      <td>Carpet Area</td>\n",
       "      <td>Behala Chowrasta</td>\n",
       "      <td>Kolkata</td>\n",
       "      <td>Unfurnished</td>\n",
       "      <td>Bachelors/Family</td>\n",
       "      <td>1</td>\n",
       "      <td>Contact Owner</td>\n",
       "      <td>0</td>\n",
       "      <td>3</td>\n",
       "    </tr>\n",
       "    <tr>\n",
       "      <th>19</th>\n",
       "      <td>2</td>\n",
       "      <td>6000</td>\n",
       "      <td>660</td>\n",
       "      <td>1 out of 2</td>\n",
       "      <td>Super Area</td>\n",
       "      <td>Behala</td>\n",
       "      <td>Kolkata</td>\n",
       "      <td>Unfurnished</td>\n",
       "      <td>Bachelors/Family</td>\n",
       "      <td>1</td>\n",
       "      <td>Contact Owner</td>\n",
       "      <td>1</td>\n",
       "      <td>2</td>\n",
       "    </tr>\n",
       "  </tbody>\n",
       "</table>\n",
       "</div>"
      ],
      "text/plain": [
       "    BHK   Rent  Size            Floor    Area Type  \\\n",
       "0     2  10000  1100  Ground out of 2   Super Area   \n",
       "1     2  20000   800       1 out of 3   Super Area   \n",
       "2     2  17000  1000       1 out of 3   Super Area   \n",
       "3     2  10000   800       1 out of 2   Super Area   \n",
       "4     2   7500   850       1 out of 2  Carpet Area   \n",
       "5     2   7000   600  Ground out of 1   Super Area   \n",
       "6     2  10000   700  Ground out of 4   Super Area   \n",
       "7     1   5000   250       1 out of 2   Super Area   \n",
       "8     2  26000   800       1 out of 2  Carpet Area   \n",
       "9     2  10000  1000       1 out of 3  Carpet Area   \n",
       "10    3  25000  1200       1 out of 4  Carpet Area   \n",
       "11    1   5000   400       1 out of 1  Carpet Area   \n",
       "12    1   6500   250       1 out of 4  Carpet Area   \n",
       "13    1   5500   375       1 out of 2  Carpet Area   \n",
       "14    3   8500   900  Ground out of 2  Carpet Area   \n",
       "15    3  40000  1286       1 out of 1  Carpet Area   \n",
       "16    2   6000   600       1 out of 2   Super Area   \n",
       "17    2  10000   800  Ground out of 2   Super Area   \n",
       "18    2  11000  2000  Ground out of 3  Carpet Area   \n",
       "19    2   6000   660       1 out of 2   Super Area   \n",
       "\n",
       "                      Area Locality     City Furnishing Status  \\\n",
       "0                            Bandel  Kolkata       Unfurnished   \n",
       "1          Phool Bagan, Kankurgachi  Kolkata    Semi-Furnished   \n",
       "2           Salt Lake City Sector 2  Kolkata    Semi-Furnished   \n",
       "3                       Dumdum Park  Kolkata       Unfurnished   \n",
       "4                     South Dum Dum  Kolkata       Unfurnished   \n",
       "5                       Thakurpukur  Kolkata       Unfurnished   \n",
       "6                          Malancha  Kolkata       Unfurnished   \n",
       "7                          Malancha  Kolkata       Unfurnished   \n",
       "8   Palm Avenue Kolkata, Ballygunge  Kolkata       Unfurnished   \n",
       "9                          Natunhat  Kolkata    Semi-Furnished   \n",
       "10  Action Area 1, Rajarhat Newtown  Kolkata    Semi-Furnished   \n",
       "11                        Keshtopur  Kolkata       Unfurnished   \n",
       "12               Tarulia, Keshtopur  Kolkata         Furnished   \n",
       "13                    Dum Dum Metro  Kolkata       Unfurnished   \n",
       "14                  Paschim Barisha  Kolkata       Unfurnished   \n",
       "15           New Town Action Area 1  Kolkata         Furnished   \n",
       "16                          Barasat  Kolkata    Semi-Furnished   \n",
       "17                           Behala  Kolkata       Unfurnished   \n",
       "18                 Behala Chowrasta  Kolkata       Unfurnished   \n",
       "19                           Behala  Kolkata       Unfurnished   \n",
       "\n",
       "    Tenant Preferred  Bathroom Point of Contact House Floor Total Floor  \n",
       "0   Bachelors/Family         2    Contact Owner           0           2  \n",
       "1   Bachelors/Family         1    Contact Owner           1           3  \n",
       "2   Bachelors/Family         1    Contact Owner           1           3  \n",
       "3   Bachelors/Family         1    Contact Owner           1           2  \n",
       "4          Bachelors         1    Contact Owner           1           2  \n",
       "5   Bachelors/Family         2    Contact Owner           0           1  \n",
       "6          Bachelors         2    Contact Agent           0           4  \n",
       "7          Bachelors         1    Contact Agent           1           2  \n",
       "8          Bachelors         2    Contact Agent           1           2  \n",
       "9   Bachelors/Family         2    Contact Owner           1           3  \n",
       "10  Bachelors/Family         2    Contact Agent           1           4  \n",
       "11  Bachelors/Family         1    Contact Agent           1           1  \n",
       "12         Bachelors         1    Contact Owner           1           4  \n",
       "13  Bachelors/Family         1    Contact Agent           1           2  \n",
       "14         Bachelors         2    Contact Owner           0           2  \n",
       "15  Bachelors/Family         2    Contact Owner           1           1  \n",
       "16  Bachelors/Family         1    Contact Owner           1           2  \n",
       "17  Bachelors/Family         1    Contact Owner           0           2  \n",
       "18  Bachelors/Family         1    Contact Owner           0           3  \n",
       "19  Bachelors/Family         1    Contact Owner           1           2  "
      ]
     },
     "execution_count": 46,
     "metadata": {},
     "output_type": "execute_result"
    }
   ],
   "source": [
    "df3['House Floor'] = df3['House Floor'].apply(lambda x: 0 if x =='Ground' else x)\n",
    "df3.head(20)"
   ]
  },
  {
   "cell_type": "code",
   "execution_count": 47,
   "id": "75884db2",
   "metadata": {},
   "outputs": [
    {
     "data": {
      "text/plain": [
       "array([0, '1', '2', '4', '3', '5', '7', '8', 'Upper Basement', '11',\n",
       "       'Lower Basement', '6', '14', '43', '13', '18', '17', '9', '19',\n",
       "       '60', '34', '12', '26', '25', '53', '16', '10', '39', '32', '47',\n",
       "       '28', '20', '15', '65', '40', '37', '22', '21', '30', '35', '33',\n",
       "       '44', '41', '46', '27', '45', '48', '50', '24', '23', '29', '49',\n",
       "       '36', '76'], dtype=object)"
      ]
     },
     "execution_count": 47,
     "metadata": {},
     "output_type": "execute_result"
    }
   ],
   "source": [
    "df3['House Floor'].unique()"
   ]
  },
  {
   "cell_type": "code",
   "execution_count": 48,
   "id": "e29b3e63",
   "metadata": {},
   "outputs": [
    {
     "data": {
      "text/plain": [
       "array([0, '1', '2', '4', '3', '5', '7', '8', -1, '11', -2, '6', '14',\n",
       "       '43', '13', '18', '17', '9', '19', '60', '34', '12', '26', '25',\n",
       "       '53', '16', '10', '39', '32', '47', '28', '20', '15', '65', '40',\n",
       "       '37', '22', '21', '30', '35', '33', '44', '41', '46', '27', '45',\n",
       "       '48', '50', '24', '23', '29', '49', '36', '76'], dtype=object)"
      ]
     },
     "execution_count": 48,
     "metadata": {},
     "output_type": "execute_result"
    }
   ],
   "source": [
    "df3['House Floor'] = df3['House Floor'].apply(lambda x: -1 if x =='Upper Basement' else -2 if x =='Lower Basement' else x)\n",
    "df3['House Floor'].unique()"
   ]
  },
  {
   "cell_type": "code",
   "execution_count": 49,
   "id": "86bf2fb8",
   "metadata": {},
   "outputs": [
    {
     "name": "stdout",
     "output_type": "stream",
     "text": [
      "<class 'pandas.core.frame.DataFrame'>\n",
      "RangeIndex: 4746 entries, 0 to 4745\n",
      "Data columns (total 13 columns):\n",
      " #   Column             Non-Null Count  Dtype \n",
      "---  ------             --------------  ----- \n",
      " 0   BHK                4746 non-null   int64 \n",
      " 1   Rent               4746 non-null   int64 \n",
      " 2   Size               4746 non-null   int64 \n",
      " 3   Floor              4746 non-null   object\n",
      " 4   Area Type          4746 non-null   object\n",
      " 5   Area Locality      4746 non-null   object\n",
      " 6   City               4746 non-null   object\n",
      " 7   Furnishing Status  4746 non-null   object\n",
      " 8   Tenant Preferred   4746 non-null   object\n",
      " 9   Bathroom           4746 non-null   int64 \n",
      " 10  Point of Contact   4746 non-null   object\n",
      " 11  House Floor        4746 non-null   object\n",
      " 12  Total Floor        4742 non-null   object\n",
      "dtypes: int64(4), object(9)\n",
      "memory usage: 482.1+ KB\n"
     ]
    }
   ],
   "source": [
    "df3.info()"
   ]
  },
  {
   "cell_type": "code",
   "execution_count": 50,
   "id": "259aa231",
   "metadata": {},
   "outputs": [],
   "source": [
    "# As checked in previous cell 'House Floor' and 'Total Floor' are objects\n",
    "# We want them to be INT (for next logic especially)\n",
    "\n",
    "df3['House Floor'] = df3['House Floor'].astype('int64')"
   ]
  },
  {
   "cell_type": "code",
   "execution_count": 51,
   "id": "f63d72f5",
   "metadata": {},
   "outputs": [
    {
     "name": "stdout",
     "output_type": "stream",
     "text": [
      "<class 'pandas.core.frame.DataFrame'>\n",
      "RangeIndex: 4746 entries, 0 to 4745\n",
      "Data columns (total 13 columns):\n",
      " #   Column             Non-Null Count  Dtype \n",
      "---  ------             --------------  ----- \n",
      " 0   BHK                4746 non-null   int64 \n",
      " 1   Rent               4746 non-null   int64 \n",
      " 2   Size               4746 non-null   int64 \n",
      " 3   Floor              4746 non-null   object\n",
      " 4   Area Type          4746 non-null   object\n",
      " 5   Area Locality      4746 non-null   object\n",
      " 6   City               4746 non-null   object\n",
      " 7   Furnishing Status  4746 non-null   object\n",
      " 8   Tenant Preferred   4746 non-null   object\n",
      " 9   Bathroom           4746 non-null   int64 \n",
      " 10  Point of Contact   4746 non-null   object\n",
      " 11  House Floor        4746 non-null   int64 \n",
      " 12  Total Floor        4742 non-null   object\n",
      "dtypes: int64(5), object(8)\n",
      "memory usage: 482.1+ KB\n"
     ]
    }
   ],
   "source": [
    "# checking types after changing\n",
    "df3.info()"
   ]
  },
  {
   "cell_type": "code",
   "execution_count": 52,
   "id": "1e0014b4",
   "metadata": {},
   "outputs": [
    {
     "data": {
      "text/plain": [
       "4"
      ]
     },
     "execution_count": 52,
     "metadata": {},
     "output_type": "execute_result"
    }
   ],
   "source": [
    "df3['Total Floor'].isnull().sum()"
   ]
  },
  {
   "cell_type": "code",
   "execution_count": 53,
   "id": "bddee76e",
   "metadata": {},
   "outputs": [
    {
     "data": {
      "text/plain": [
       "0"
      ]
     },
     "execution_count": 53,
     "metadata": {},
     "output_type": "execute_result"
    }
   ],
   "source": [
    "# we gotta drop them\n",
    "df3 = df3.dropna()\n",
    "df3['Total Floor'].isnull().sum()"
   ]
  },
  {
   "cell_type": "code",
   "execution_count": 54,
   "id": "b16f531b",
   "metadata": {},
   "outputs": [
    {
     "data": {
      "text/plain": [
       "0        2\n",
       "1        3\n",
       "2        3\n",
       "3        2\n",
       "4        2\n",
       "        ..\n",
       "4741     5\n",
       "4742     4\n",
       "4743     5\n",
       "4744    34\n",
       "4745     5\n",
       "Name: Total Floor, Length: 4742, dtype: int64"
      ]
     },
     "execution_count": 54,
     "metadata": {},
     "output_type": "execute_result"
    }
   ],
   "source": [
    "# earlier NULL values were there so, the TYPE would just not convert to INT\n",
    "# Now it will convert object to int.\n",
    "\n",
    "df3['Total Floor'] = df3['Total Floor'].astype('int64')\n",
    "df3['Total Floor'] # yeah, now you can see."
   ]
  },
  {
   "cell_type": "code",
   "execution_count": 55,
   "id": "ad6a250e",
   "metadata": {},
   "outputs": [
    {
     "data": {
      "text/html": [
       "<div>\n",
       "<style scoped>\n",
       "    .dataframe tbody tr th:only-of-type {\n",
       "        vertical-align: middle;\n",
       "    }\n",
       "\n",
       "    .dataframe tbody tr th {\n",
       "        vertical-align: top;\n",
       "    }\n",
       "\n",
       "    .dataframe thead th {\n",
       "        text-align: right;\n",
       "    }\n",
       "</style>\n",
       "<table border=\"1\" class=\"dataframe\">\n",
       "  <thead>\n",
       "    <tr style=\"text-align: right;\">\n",
       "      <th></th>\n",
       "      <th>BHK</th>\n",
       "      <th>Rent</th>\n",
       "      <th>Size</th>\n",
       "      <th>Area Type</th>\n",
       "      <th>Area Locality</th>\n",
       "      <th>City</th>\n",
       "      <th>Furnishing Status</th>\n",
       "      <th>Tenant Preferred</th>\n",
       "      <th>Bathroom</th>\n",
       "      <th>Point of Contact</th>\n",
       "      <th>House Floor</th>\n",
       "      <th>Total Floor</th>\n",
       "    </tr>\n",
       "  </thead>\n",
       "  <tbody>\n",
       "    <tr>\n",
       "      <th>0</th>\n",
       "      <td>2</td>\n",
       "      <td>10000</td>\n",
       "      <td>1100</td>\n",
       "      <td>Super Area</td>\n",
       "      <td>Bandel</td>\n",
       "      <td>Kolkata</td>\n",
       "      <td>Unfurnished</td>\n",
       "      <td>Bachelors/Family</td>\n",
       "      <td>2</td>\n",
       "      <td>Contact Owner</td>\n",
       "      <td>0</td>\n",
       "      <td>2</td>\n",
       "    </tr>\n",
       "    <tr>\n",
       "      <th>1</th>\n",
       "      <td>2</td>\n",
       "      <td>20000</td>\n",
       "      <td>800</td>\n",
       "      <td>Super Area</td>\n",
       "      <td>Phool Bagan, Kankurgachi</td>\n",
       "      <td>Kolkata</td>\n",
       "      <td>Semi-Furnished</td>\n",
       "      <td>Bachelors/Family</td>\n",
       "      <td>1</td>\n",
       "      <td>Contact Owner</td>\n",
       "      <td>1</td>\n",
       "      <td>3</td>\n",
       "    </tr>\n",
       "    <tr>\n",
       "      <th>2</th>\n",
       "      <td>2</td>\n",
       "      <td>17000</td>\n",
       "      <td>1000</td>\n",
       "      <td>Super Area</td>\n",
       "      <td>Salt Lake City Sector 2</td>\n",
       "      <td>Kolkata</td>\n",
       "      <td>Semi-Furnished</td>\n",
       "      <td>Bachelors/Family</td>\n",
       "      <td>1</td>\n",
       "      <td>Contact Owner</td>\n",
       "      <td>1</td>\n",
       "      <td>3</td>\n",
       "    </tr>\n",
       "  </tbody>\n",
       "</table>\n",
       "</div>"
      ],
      "text/plain": [
       "   BHK   Rent  Size   Area Type             Area Locality     City  \\\n",
       "0    2  10000  1100  Super Area                    Bandel  Kolkata   \n",
       "1    2  20000   800  Super Area  Phool Bagan, Kankurgachi  Kolkata   \n",
       "2    2  17000  1000  Super Area   Salt Lake City Sector 2  Kolkata   \n",
       "\n",
       "  Furnishing Status  Tenant Preferred  Bathroom Point of Contact  House Floor  \\\n",
       "0       Unfurnished  Bachelors/Family         2    Contact Owner            0   \n",
       "1    Semi-Furnished  Bachelors/Family         1    Contact Owner            1   \n",
       "2    Semi-Furnished  Bachelors/Family         1    Contact Owner            1   \n",
       "\n",
       "   Total Floor  \n",
       "0            2  \n",
       "1            3  \n",
       "2            3  "
      ]
     },
     "execution_count": 55,
     "metadata": {},
     "output_type": "execute_result"
    }
   ],
   "source": [
    "df3 = df3.drop(['Floor'],axis='columns')\n",
    "df3.head(3)"
   ]
  },
  {
   "cell_type": "markdown",
   "id": "34d47f20",
   "metadata": {},
   "source": [
    "* **Categorical to Numerical**(Text to Number)\n",
    "* Let us go with Label encoder.\n",
    "* In label encoding, we replace the categorical value with a numeric value between 0 and the number of classes minus 1. If the categorical variable value contains 5 distinct classes, we use (0, 1, 2, 3, and 4).\n",
    "* We use _LabelEncoder_ class using scikit-learn library.\n",
    "* As Label Encoding in Python is part of _data preprocessing_, hence we have taken an help of preprocessing module from sklearn package and import LabelEncoder class.\n",
    "* We create _instance_ of LabelEncoder().\n",
    "* Apply _fit_ and _transform_ which does the trick to assign numerical value to categorical value."
   ]
  },
  {
   "cell_type": "code",
   "execution_count": 56,
   "id": "f2bed7d1",
   "metadata": {},
   "outputs": [],
   "source": [
    "# Creating Label Encoder\n",
    "label_encoder = preprocessing.LabelEncoder()\n",
    "\n",
    "# Label Encoder works by alphabetical order\n",
    "#df3['Floor_LE'] = label_encoder.fit_transform(df3['Floor'])\n",
    "#df3.head(8)"
   ]
  },
  {
   "cell_type": "code",
   "execution_count": 57,
   "id": "eea48c8d",
   "metadata": {},
   "outputs": [],
   "source": [
    "#print('Floor : ', df3['Floor'].unique())\n",
    "#print('Floor_LE : ', df3['Floor_LE'].unique())"
   ]
  },
  {
   "cell_type": "code",
   "execution_count": 58,
   "id": "72449a3e",
   "metadata": {
    "scrolled": true
   },
   "outputs": [
    {
     "data": {
      "text/html": [
       "<div>\n",
       "<style scoped>\n",
       "    .dataframe tbody tr th:only-of-type {\n",
       "        vertical-align: middle;\n",
       "    }\n",
       "\n",
       "    .dataframe tbody tr th {\n",
       "        vertical-align: top;\n",
       "    }\n",
       "\n",
       "    .dataframe thead th {\n",
       "        text-align: right;\n",
       "    }\n",
       "</style>\n",
       "<table border=\"1\" class=\"dataframe\">\n",
       "  <thead>\n",
       "    <tr style=\"text-align: right;\">\n",
       "      <th></th>\n",
       "      <th>BHK</th>\n",
       "      <th>Rent</th>\n",
       "      <th>Size</th>\n",
       "      <th>Area Type</th>\n",
       "      <th>Area Locality</th>\n",
       "      <th>City</th>\n",
       "      <th>Furnishing Status</th>\n",
       "      <th>Tenant Preferred</th>\n",
       "      <th>Bathroom</th>\n",
       "      <th>Point of Contact</th>\n",
       "      <th>House Floor</th>\n",
       "      <th>Total Floor</th>\n",
       "    </tr>\n",
       "  </thead>\n",
       "  <tbody>\n",
       "    <tr>\n",
       "      <th>0</th>\n",
       "      <td>2</td>\n",
       "      <td>10000</td>\n",
       "      <td>1100</td>\n",
       "      <td>1</td>\n",
       "      <td>221</td>\n",
       "      <td>4</td>\n",
       "      <td>2</td>\n",
       "      <td>1</td>\n",
       "      <td>2</td>\n",
       "      <td>1</td>\n",
       "      <td>0</td>\n",
       "      <td>2</td>\n",
       "    </tr>\n",
       "    <tr>\n",
       "      <th>1</th>\n",
       "      <td>2</td>\n",
       "      <td>20000</td>\n",
       "      <td>800</td>\n",
       "      <td>1</td>\n",
       "      <td>1525</td>\n",
       "      <td>4</td>\n",
       "      <td>1</td>\n",
       "      <td>1</td>\n",
       "      <td>1</td>\n",
       "      <td>1</td>\n",
       "      <td>1</td>\n",
       "      <td>3</td>\n",
       "    </tr>\n",
       "    <tr>\n",
       "      <th>2</th>\n",
       "      <td>2</td>\n",
       "      <td>17000</td>\n",
       "      <td>1000</td>\n",
       "      <td>1</td>\n",
       "      <td>1758</td>\n",
       "      <td>4</td>\n",
       "      <td>1</td>\n",
       "      <td>1</td>\n",
       "      <td>1</td>\n",
       "      <td>1</td>\n",
       "      <td>1</td>\n",
       "      <td>3</td>\n",
       "    </tr>\n",
       "  </tbody>\n",
       "</table>\n",
       "</div>"
      ],
      "text/plain": [
       "   BHK   Rent  Size  Area Type  Area Locality  City  Furnishing Status  \\\n",
       "0    2  10000  1100          1            221     4                  2   \n",
       "1    2  20000   800          1           1525     4                  1   \n",
       "2    2  17000  1000          1           1758     4                  1   \n",
       "\n",
       "   Tenant Preferred  Bathroom  Point of Contact  House Floor  Total Floor  \n",
       "0                 1         2                 1            0            2  \n",
       "1                 1         1                 1            1            3  \n",
       "2                 1         1                 1            1            3  "
      ]
     },
     "execution_count": 58,
     "metadata": {},
     "output_type": "execute_result"
    }
   ],
   "source": [
    "# Let us Encode all the columns at once..\n",
    "col = df3.columns\n",
    "\n",
    "for c in col:\n",
    "    if isinstance(df3[c][0], str):\n",
    "        df3[c] = label_encoder.fit_transform(df3[c])\n",
    "df3.head(3)"
   ]
  },
  {
   "cell_type": "code",
   "execution_count": 59,
   "id": "5c46c1c2",
   "metadata": {
    "scrolled": true
   },
   "outputs": [
    {
     "name": "stdout",
     "output_type": "stream",
     "text": [
      "<class 'pandas.core.frame.DataFrame'>\n",
      "Int64Index: 4742 entries, 0 to 4745\n",
      "Data columns (total 12 columns):\n",
      " #   Column             Non-Null Count  Dtype\n",
      "---  ------             --------------  -----\n",
      " 0   BHK                4742 non-null   int64\n",
      " 1   Rent               4742 non-null   int64\n",
      " 2   Size               4742 non-null   int64\n",
      " 3   Area Type          4742 non-null   int32\n",
      " 4   Area Locality      4742 non-null   int32\n",
      " 5   City               4742 non-null   int32\n",
      " 6   Furnishing Status  4742 non-null   int32\n",
      " 7   Tenant Preferred   4742 non-null   int32\n",
      " 8   Bathroom           4742 non-null   int64\n",
      " 9   Point of Contact   4742 non-null   int32\n",
      " 10  House Floor        4742 non-null   int64\n",
      " 11  Total Floor        4742 non-null   int64\n",
      "dtypes: int32(6), int64(6)\n",
      "memory usage: 499.5 KB\n"
     ]
    }
   ],
   "source": [
    "df3.info()"
   ]
  },
  {
   "cell_type": "markdown",
   "id": "168c84bd",
   "metadata": {},
   "source": [
    "# MODEL BUILDING"
   ]
  },
  {
   "cell_type": "code",
   "execution_count": 60,
   "id": "f32e4df2",
   "metadata": {},
   "outputs": [],
   "source": [
    "#x variable (independent variable)\n",
    "#x = df3.drop(['Rent','Area Locality'],axis='columns') #since dependent var is Rent, so drop it ,rest cols are independent\n",
    "#x.head(3)\n",
    "\n",
    "features = ['BHK', 'Size', 'Area Type', 'City', 'Furnishing Status',\n",
    "           'Tenant Preferred', 'Bathroom', 'Point of Contact', 'House Floor',\n",
    "           'Total Floor']\n",
    "\n",
    "x = df3[features]\n",
    "y = df3['Rent']   #y variable (dependent variable), prediction variable"
   ]
  },
  {
   "cell_type": "code",
   "execution_count": 61,
   "id": "4f5dda1b",
   "metadata": {},
   "outputs": [],
   "source": [
    "# splitting data into train and test\n",
    "from sklearn.model_selection import train_test_split\n",
    "x_train,x_test,y_train,y_test = train_test_split(x,y,train_size=0.80,random_state=0) \n",
    "# random state (controls shuffling before split)\n",
    "# rs=0, means , for every execution the Data won't shuffle.\n",
    "# None: This is the default value. This allows the function to use the global random state instance from np.random . If you call the same function multiple times with random_state=None, that function will produce different results across different executions.\n",
    "# int: We can use an integer for random_state . Yes! We can use any integer including 0, but not negative ones, only positive integers. The most popular integers are 0 and 42. When we use an integer for random_state, the function will produce the same results across different executions. The results are only changed if we change the integer value.\n",
    "# With !!--random_state=None--!! , we get different train and test sets across different executions and the shuffling process is out of control.\n",
    "# With !!--random_state=0--!! , we get the same train and test sets across different executions.\n",
    "# With !!--random_state=42--!!, we get the same train and test sets across different executions, but in this time, the train and test sets are different from the previous case with random_state=0.\n",
    "# same thing only different data sets which would again repeat on subsequent executions."
   ]
  },
  {
   "cell_type": "markdown",
   "id": "dee3e7ae",
   "metadata": {},
   "source": [
    "__RANDOM FOREST__\n",
    "* Random forest is a supervised learning algorithm.\n",
    "* It uses an ensemble learning method for classification and regression. \n",
    "* Based on Bagging Technique.\n",
    "* The trees in random forests run in parallel, meaning is no interaction between these trees while building the trees.\n",
    "\n",
    "__ENSEMBLE LEARNING__\n",
    "* An ensemble method is a technique that combines the predictions from multiple machine learning algorithms together.\n",
    "* In order to make more accurate predictions than any individual model. \n",
    "* A model comprised of many models is called an ensemble model. \n",
    "* Bagging and Boosting are the types.\n",
    "* RF uses bagging here.\n",
    "* Bagging = Bootstrap Aggregation.\n",
    "* Bagging is a general procedure that can be used to reduce the variance for those algorithms that have high variance, typically decision trees. Bagging makes each model run independently and then aggregates the outputs at the end without preference to any model.\n",
    "* Random forest operates by constructing a multitude of decision trees(running paralelly) at training time and outputs mean prediction(regression) of individual trees."
   ]
  },
  {
   "cell_type": "code",
   "execution_count": 62,
   "id": "6acfeb4a",
   "metadata": {},
   "outputs": [
    {
     "name": "stdout",
     "output_type": "stream",
     "text": [
      "      BHK  Size  Area Type  City  Furnishing Status  Tenant Preferred  \\\n",
      "1104    1   640          1     5                  0                 1   \n",
      "2612    2    75          1     2                  2                 1   \n",
      "4378    1   400          0     3                  2                 1   \n",
      "2950    1   200          0     2                  2                 1   \n",
      "4601    2  1000          1     3                  1                 1   \n",
      "...   ...   ...        ...   ...                ...               ...   \n",
      "1069    1   400          1     5                  2                 0   \n",
      "462     3   120          1     4                  0                 1   \n",
      "4585    2  1200          1     3                  2                 1   \n",
      "1366    3  1337          0     5                  1                 1   \n",
      "347     3  1100          0     4                  2                 0   \n",
      "\n",
      "      Bathroom  Point of Contact  House Floor  Total Floor  \n",
      "1104         2                 1           11           23  \n",
      "2612         1                 1            2            4  \n",
      "4378         1                 1            4            4  \n",
      "2950         1                 1            1            2  \n",
      "4601         2                 1            3            5  \n",
      "...        ...               ...          ...          ...  \n",
      "1069         1                 1            3            6  \n",
      "462          2                 1            2            5  \n",
      "4585         2                 1            3            5  \n",
      "1366         3                 0           28           30  \n",
      "347          2                 0            0            1  \n",
      "\n",
      "[949 rows x 10 columns]\n"
     ]
    },
    {
     "data": {
      "text/plain": [
       "pandas.core.frame.DataFrame"
      ]
     },
     "execution_count": 62,
     "metadata": {},
     "output_type": "execute_result"
    }
   ],
   "source": [
    "# how does x_test look?\n",
    "print(x_test)\n",
    "type(x_test)"
   ]
  },
  {
   "cell_type": "code",
   "execution_count": 63,
   "id": "bb95de8d",
   "metadata": {
    "scrolled": false
   },
   "outputs": [
    {
     "data": {
      "text/plain": [
       "array([ 31565.        ,  12155.        ,   8140.        ,   7346.66666667,\n",
       "        14680.5       , 151938.33333333,  24483.5       ,  15870.        ,\n",
       "        46240.        ,  83551.        ,  67642.        ,  12257.55555556,\n",
       "        12999.34      ,  17136.91666667,  42519.92      ,  14772.5       ,\n",
       "         7988.33333333,  33505.        ,  20715.        ,  26578.41      ,\n",
       "        12540.        ,   6927.66666667, 142805.        ,  29240.        ,\n",
       "        35404.97      ,   7453.        ,  11287.        ,  89979.91      ,\n",
       "        25441.        ,  21858.5       ,   7727.5       ,  10962.44047619,\n",
       "         7882.        ,   5735.5       ,  26931.        ,  18292.14285714,\n",
       "        10335.        ,  19424.        ,  66200.        ,  40335.        ,\n",
       "         7371.33333333,  46620.        ,  29120.        ,   8661.79047619,\n",
       "        20490.        ,   8191.        ,  65920.        ,  20338.        ,\n",
       "        33780.06      ,   5798.25      ,   8803.        , 252630.        ,\n",
       "        47170.        ,   7474.        ,   6603.66666667,  50340.        ,\n",
       "        28963.22      , 126329.99      ,  19895.        ,  15960.        ,\n",
       "        49584.97      ,  30995.12      ,  15648.33333333,  13715.        ,\n",
       "        14425.        , 122900.        ,  17735.66666667,  20502.4       ,\n",
       "         5712.33333333,  10307.60714286,  12885.        ,   8611.75      ,\n",
       "        16306.66666667,  17593.33333333,  77030.        , 335500.        ,\n",
       "         5473.        ,  39890.05      ,  10305.27380952,   7836.41666667,\n",
       "       186800.        , 117600.        ,  19324.5       ,  61340.        ,\n",
       "        33805.        ,  13340.        ,  46235.        ,  10813.        ,\n",
       "        12585.        ,  20927.96      ,  15100.        ,  28464.96      ,\n",
       "       292100.        ,  24672.66666667,  39100.        ,  41965.        ,\n",
       "        10568.5       ,  13435.33333333,  20030.43      ,  21137.22      ,\n",
       "        10037.16666667,  17158.5       ,  14818.75      ,  17959.96      ,\n",
       "        11900.        ,   8295.41666667,  36805.        , 138350.        ,\n",
       "        13653.25      ,  63090.        ,  97129.99      ,  25485.        ,\n",
       "        47708.78333333,   8479.        ,  32390.        ,  74745.        ,\n",
       "        13411.33333333,  19306.        ,  23668.81      ,  19288.5       ,\n",
       "        16563.66666667,  24025.        ,  44955.        ,  13942.91666667,\n",
       "         5417.        ,  36985.        ,  11406.        ,   7826.9047619 ,\n",
       "        65959.73      ,  22520.        ,   4757.86666667,  11473.        ,\n",
       "        63850.        ,  10008.19047619,  24040.        ,   9260.        ,\n",
       "       305800.        , 166420.        ,   7142.41666667,   8642.        ,\n",
       "        17680.        , 197100.        ,  27611.91      ,  24905.        ,\n",
       "        11744.33333333, 175170.        ,  11565.5734127 ,  13755.        ,\n",
       "        22108.        , 102254.99      ,  10376.55952381,  17950.        ,\n",
       "        10794.        ,  19697.        ,   6995.        ,   9813.75      ,\n",
       "        45509.        ,  16240.        , 152800.        ,   9242.66666667,\n",
       "        11761.66666667, 188000.        , 335427.08333333,  10770.        ,\n",
       "        19455.        ,   8697.        ,  21090.        ,  41772.23      ,\n",
       "        15847.83333333,  34015.        ,  28101.33333333,   6332.        ,\n",
       "        12075.        ,   7975.83333333, 184700.        ,   8996.        ,\n",
       "        23804.96      ,  26232.6       , 132710.        ,  18470.        ,\n",
       "        20115.        ,  20289.        ,  20608.        ,  11830.5       ,\n",
       "         9225.        ,  12555.75      ,  11016.77      ,  25005.5       ,\n",
       "         6910.25      ,  19493.33333333,  18094.        ,  19831.5       ,\n",
       "         8586.5       ,  14941.        ,  33495.        ,   9621.75      ,\n",
       "       289500.        ,  20875.        ,  11280.        ,  16880.83333333,\n",
       "        16480.        ,  44840.        ,  54108.56142857,  13936.66666667,\n",
       "        12376.66666667,  11283.33333333,  13815.        ,  13985.        ,\n",
       "        21735.        ,  47372.1       ,   6994.5       ,  13801.5       ,\n",
       "       144240.        ,  17415.        ,  47625.        ,  15909.        ,\n",
       "       303400.        ,  54116.        ,  10762.        ,  20380.        ,\n",
       "         9616.        ,  36315.        ,  27022.5       ,  12230.        ,\n",
       "        21680.        ,  48395.        ,  13090.        ,   8941.66666667,\n",
       "        19840.        ,  17127.5       ,   6727.83333333,  13130.        ,\n",
       "        44090.        ,  41476.95      ,  20070.        ,  15942.66666667,\n",
       "        17352.        ,   9270.        ,  21595.        ,  35000.        ,\n",
       "        77319.99      ,  38846.66666667,  12366.        ,  12767.9047619 ,\n",
       "        36955.04      ,  22378.33333333,   7009.9       ,   9116.        ,\n",
       "        19123.33333333,  30705.        ,  35810.        ,  29890.        ,\n",
       "        13886.66666667,   7066.27777778,   6992.25      , 269500.        ,\n",
       "        29725.        ,  10898.        , 138800.        ,   7611.60515873,\n",
       "        32864.11      ,   8202.83333333,  12005.5       ,  22240.        ,\n",
       "        14075.        ,  45290.        ,  13243.92683333,   7480.75      ,\n",
       "         5363.375     ,  16745.        , 131910.        ,  46590.        ,\n",
       "        13193.91666667,   8536.11111111,  43030.83333333,  22606.5       ,\n",
       "        52038.66666667,  11303.66666667,  24160.        ,   9410.25      ,\n",
       "       273400.        ,  14796.66666667,  34870.        ,  16679.99      ,\n",
       "        17449.11      ,  10972.        ,  14267.        ,  13434.95      ,\n",
       "        20632.23      ,  36995.        ,  27310.        ,  39796.54      ,\n",
       "        10847.5       ,   7887.57142857,  10702.55555556, 207230.        ,\n",
       "        29215.33333333,  11550.        ,  11356.        ,   5348.125     ,\n",
       "         6468.        ,  17386.16333333,  79447.        ,  14710.        ,\n",
       "        14930.        ,  28503.2       ,   3062.2       ,   6492.70833333,\n",
       "        16875.        ,  48372.        ,   7269.        ,  40635.        ,\n",
       "         8264.        ,  19563.83333333,   5520.        ,  44935.        ,\n",
       "        19944.        ,  25520.        ,  11865.35714286,  13550.        ,\n",
       "        19475.        ,  13345.        ,   6878.33333333,  16700.        ,\n",
       "        23740.        ,   9861.30952381,  29815.        ,  12863.66666667,\n",
       "         6920.        ,  38445.        ,  17853.        ,  25508.97      ,\n",
       "       126378.33333333,  28666.        ,  83340.        ,  10866.47619048,\n",
       "         9334.36190476,  20852.45      ,   6232.08333333,  10885.        ,\n",
       "        13830.5       ,  24124.        ,  21915.        ,  11035.        ,\n",
       "       214360.        ,   8630.75      ,   4050.        , 108655.        ,\n",
       "        17115.        ,  54300.02      ,  49645.        ,  85590.        ,\n",
       "        69028.33333333,  11735.25      ,   9970.33333333,   6546.        ,\n",
       "        25054.        ,  16475.        ,   7751.39880952,   8275.        ,\n",
       "        13775.        ,  25134.        ,  18940.        ,  18276.66666667,\n",
       "         8575.05952381,  13770.58333333, 250900.        ,  59722.49      ,\n",
       "         6820.        , 313900.        ,  34812.        ,  24215.        ,\n",
       "         7918.        ,  21669.11      ,  32570.        ,  15282.        ,\n",
       "        27372.94      , 150210.        ,  22339.25      ,  38677.64      ,\n",
       "        19574.        ,  16060.        ,  19130.        ,  25494.25      ,\n",
       "        14220.        ,  12758.        , 239600.        ,  15582.66666667,\n",
       "        19515.        ,  21615.        ,  79382.94      ,  10300.        ,\n",
       "       125860.        ,  11613.25      ,  11565.5734127 ,  17678.5       ,\n",
       "        22050.        ,  11994.83333333,  49209.11      ,   8070.        ,\n",
       "         9415.        ,  15436.64285714,   9323.        ,  14268.        ,\n",
       "        12278.75      ,  20991.64      ,  21117.5       ,  25685.        ,\n",
       "        26565.        ,   8340.        ,  83194.        , 246100.        ,\n",
       "       113490.        ,  10890.        , 133525.        , 231200.        ,\n",
       "        17803.91666667,  21541.64      ,  11549.16666667,  11420.92411905,\n",
       "         4815.        ,  58738.        ,  70635.        ,  18840.        ,\n",
       "        34350.        ,  33936.03      ,  45330.        ,  22935.        ,\n",
       "         8353.        ,  12500.        ,  58180.        ,  16068.33333333,\n",
       "         8725.        , 178740.        ,   9320.41666667,  59860.        ,\n",
       "        10815.        ,  37590.        ,  66445.        ,  39399.9047619 ,\n",
       "         4359.5       ,  10608.33333333,   7979.83333333,  63263.32333333,\n",
       "         6205.        ,  31960.        ,  20200.        ,  14668.        ,\n",
       "        15234.        ,  12519.5       ,  28582.44333333,  21506.66666667,\n",
       "        96130.        ,  18420.        ,  12651.04761905,  26104.        ,\n",
       "        13380.5       ,  63523.5       ,  18222.66666667,  19950.        ,\n",
       "        10499.        ,  72880.21      ,  13253.75      , 204200.        ,\n",
       "        24402.33333333,   7074.75      ,  59387.66666667,  74819.85      ,\n",
       "        16070.        ,  26795.        ,  10047.        ,  24255.        ,\n",
       "        10875.        , 106355.        ,  21615.        , 148450.        ,\n",
       "        20266.66666667,  22715.        ,  18029.96      ,  16480.        ,\n",
       "         8540.        ,  58110.        ,   9352.        , 106654.99      ,\n",
       "        14316.33333333,   9890.64555556,  24687.83333333,  14490.83333333,\n",
       "        12440.        ,  41860.        ,  13206.        ,   9690.        ,\n",
       "        21565.        ,   8589.8       ,  14897.        ,  26958.16      ,\n",
       "         9358.97619048,  11362.5       ,  55390.        ,  64715.        ,\n",
       "        11746.        ,  35890.        ,  75280.10714286,  25681.66666667,\n",
       "         7428.33333333,  67359.99      ,  10764.16666667,   8587.5       ,\n",
       "        30690.        ,  69980.        ,  18314.        ,  70271.        ,\n",
       "        12875.08333333,  10847.5       ,  14918.88888889,  40639.16666667,\n",
       "        15035.        ,   9320.66666667,  15387.5       ,  24098.08      ,\n",
       "       162675.        ,  14890.        ,  12492.41666667,  13841.38666667,\n",
       "        23318.39285714,  44116.64809524,  11602.5       , 207850.        ,\n",
       "        51400.        ,  15678.06333333,  27151.        ,  94130.        ,\n",
       "        20480.        ,  58800.        ,  16898.        ,  12438.75      ,\n",
       "         6146.1547619 ,  68528.66666667,   6982.16666667,  41645.02      ,\n",
       "        14187.25      ,  11035.        ,  25690.        ,   9810.        ,\n",
       "        19136.        ,  58805.        ,   6155.        ,  10957.        ,\n",
       "         8091.        ,  10921.77      ,  13220.16666667,  10934.75      ,\n",
       "        11363.75      ,   7456.5       ,  11007.        ,  37624.99      ,\n",
       "         8043.5       ,  18172.5       ,  13220.83333333,  19552.48      ,\n",
       "        26768.0952381 ,  24455.        ,  62970.        ,  11538.66666667,\n",
       "        13893.5       ,  42015.        ,   9149.33333333,  19975.83333333,\n",
       "        32054.97      ,  27875.        ,  37145.        , 132635.        ,\n",
       "        22754.79333333,  73675.        ,  12699.25      ,  15965.        ,\n",
       "        31528.24666667,  34012.22      ,  12273.        ,  37245.        ,\n",
       "       536450.        ,  38180.        ,  75695.        ,  80096.        ,\n",
       "       127440.        ,  10745.        ,  24815.        ,  14778.33333333,\n",
       "        13562.91666667,   7545.        ,  12799.80952381,   5973.        ,\n",
       "        20398.66      ,  20830.36666667,  12715.33333333,  29520.        ,\n",
       "        31485.        ,  31920.        ,  39960.        ,   8305.        ,\n",
       "        24698.9       ,   8977.33333333,  34665.        ,   7668.33333333,\n",
       "        53069.98      ,  20624.64      ,  12136.83333333,  22743.33333333,\n",
       "        48795.        ,  38399.99      ,   6917.66666667,  10397.5       ,\n",
       "        34100.        ,  13460.        ,   9041.83333333,  15640.        ,\n",
       "        67914.16666667,  40809.49      ,   9410.25      ,   8692.41666667,\n",
       "         5388.        ,  14645.        ,  12400.25      ,  29820.        ,\n",
       "        32412.5       ,  20145.        ,  24317.        ,  18714.        ,\n",
       "        16091.66666667, 187760.        ,  12426.25      ,  18455.        ,\n",
       "        20917.5       ,   8845.        ,  10870.        ,  13460.        ,\n",
       "         6805.5       ,  21375.        ,  10710.        ,   8199.75      ,\n",
       "        25394.69      ,   7393.        ,  12445.        ,  15448.5       ,\n",
       "       348000.        ,  58575.        ,  23213.82      ,  24317.19333333,\n",
       "        10112.        ,  12982.94047619,  43825.11      ,  13766.66666667,\n",
       "       116969.98      ,  31243.        ,  80458.        ,  10112.        ,\n",
       "         9464.36190476,  34070.        ,   6442.42857143,  32040.        ,\n",
       "       130400.        ,  17282.5       ,  22623.        ,  11150.        ,\n",
       "       163800.        ,   8164.        ,  12497.26190476,  14701.33333333,\n",
       "        27836.        ,  11800.5       ,  22689.48      ,  82539.96      ,\n",
       "        10963.66666667,   6806.        ,  10815.        ,  16723.33333333,\n",
       "        19783.82      ,  25316.74      ,  14865.        ,  14499.16666667,\n",
       "       210550.        ,   5750.        ,   8948.5       ,  82301.        ,\n",
       "        14899.16      ,   5395.5       ,  11304.23611905,  40739.15079365,\n",
       "        25260.        ,   7631.33333333,  33080.        , 111630.        ,\n",
       "        97095.        ,   7950.66666667,  10851.5       ,  11401.5       ,\n",
       "        20056.74      ,  11840.        ,  45210.        ,  15415.        ,\n",
       "       128236.66666667,  42465.        ,  14890.        ,  28825.        ,\n",
       "        15482.        ,  13419.83333333,  46495.        ,  22116.32      ,\n",
       "        89659.94      ,  25285.        ,  10145.        ,  22200.        ,\n",
       "        52940.        ,  14699.        ,  17275.08333333,  13476.        ,\n",
       "        49420.        ,   8900.61428571,  37702.30333333,  10900.        ,\n",
       "        23335.        ,  20925.66666667,  13770.58333333,  27689.98      ,\n",
       "         3458.        ,  83517.00793651,   5714.29166667,  20495.        ,\n",
       "         6467.5       ,  13662.9047619 ,  11315.        ,   9019.        ,\n",
       "        14176.66666667,  82615.        ,  47310.        , 142450.        ,\n",
       "        26810.        ,  12033.75      ,  39440.        ,  23564.        ,\n",
       "         7906.57142857,  61900.        ,  31585.        ,  16050.33333333,\n",
       "       144400.        ,  15610.        ,   6905.99      ,  18127.        ,\n",
       "        13921.66666667,  17505.91666667,  12330.33333333,  13070.41666667,\n",
       "         8012.5       , 339800.        ,   8802.        , 119503.33333333,\n",
       "        90280.        ,  20167.23      ,  81669.98      ,  15146.25      ,\n",
       "        10305.27380952,   5960.        ,  31563.        ,  10378.        ,\n",
       "        11951.5       ,  10552.        ,  55990.        ,  30837.91269841,\n",
       "        22815.        ,  13419.83333333,  16603.33333333,   9401.58333333,\n",
       "        41137.62      ,  28162.5       ,   9195.        ,   9436.47619048,\n",
       "       155610.        ,  16888.14333333,  16480.        ,  18495.        ,\n",
       "        12275.        ,  12640.        ,   8640.        ,  10185.66666667,\n",
       "       116960.        ,  14920.        ,  40050.        ,  15692.        ,\n",
       "        25910.        ,  17728.33333333,  22146.66666667,  16482.33333333,\n",
       "        52515.        ,  12499.75      ,  15602.5       ,  36211.74      ,\n",
       "        32537.48      ,  37247.84666667,  24755.        ,  14600.83333333,\n",
       "        27917.16666667,  46170.        ,  22725.        , 116978.33333333,\n",
       "        14088.08333333,  34660.        ,  55406.        ,  10207.5       ,\n",
       "        32170.        ,  92473.25      ,  21455.        ,  42939.18333333,\n",
       "         7333.33333333,   7070.5       ,  17671.46      ,  12545.83333333,\n",
       "        83030.        ,  23810.        ,  28232.77      ,  20874.98      ,\n",
       "        18207.        ,  20082.31      ,  33113.97      ,  22055.        ,\n",
       "        19631.25      ,  16238.98      ,  13234.16666667,  47700.16      ,\n",
       "        23105.        ,  13238.75      ,  18775.        , 140310.        ,\n",
       "        24595.02      ,   9957.5       ,  36410.        ,  21650.        ,\n",
       "        10270.        ,  12074.76190476,  20460.        ,   6320.83333333,\n",
       "       116600.        ,  16358.33333333,  21365.        ,   9489.61111111,\n",
       "        17712.91666667,  10269.        ,  83209.98      ,  66710.        ,\n",
       "        11275.        ,  13825.        ,  11370.        ,  19771.25      ,\n",
       "         6902.01190476,  44609.79      ,  93242.        , 150750.        ,\n",
       "         7611.60515873,   6344.6       ,   9909.73333333,  25779.69      ,\n",
       "         6678.        ,  14185.        ,   6587.33333333,  36481.66666667,\n",
       "        12060.        ,  52380.        ,   5070.        ,  12094.66666667,\n",
       "        22580.        ,  78490.        ,  66895.        ,  16558.        ,\n",
       "        15545.        ,   7975.83333333,  17145.        ,  14157.16666667,\n",
       "        48097.18666667,  56075.        ,  68154.        ,  15593.5       ,\n",
       "        47360.        ,  27863.22      ,  70040.12      ,   9458.        ,\n",
       "         6062.5       , 246550.        ,  10682.        ,  23342.5       ,\n",
       "        16404.5       ,  17065.        ,  10755.83333333,  36080.        ,\n",
       "        11083.66666667,  18509.17      ,  12685.        ,  16320.        ,\n",
       "        10481.41666667,   9525.        ,  33078.97      ,   5769.33333333,\n",
       "        32944.28333333,   9619.25      ,  23626.95      ,  11835.        ,\n",
       "        15063.        ,  11273.        ,  23184.08      ,  47135.        ,\n",
       "        25675.05      , 137246.66666667,  14918.88888889, 242845.        ,\n",
       "        34915.03      ,  76560.        ,  11572.25      ,  23057.        ,\n",
       "        13770.        ,  13163.83333333,  53846.37333333,  20280.        ,\n",
       "         9106.        , 158390.        ,   8701.5       ,  12167.5       ,\n",
       "         7647.66666667, 144400.        ,  16250.33333333,  44675.        ,\n",
       "        31965.        ,   6006.        ,   7765.33333333,  12702.        ,\n",
       "        12469.78333333,   8469.        ,  20632.23      ,  21775.        ,\n",
       "        19455.        ,   8215.        ,  10851.7826746 ,  24546.43      ,\n",
       "        36205.        ,  22865.        ,  11472.16666667,  41288.        ,\n",
       "        23361.33      ,  16244.        ,  14320.        , 151466.66666667,\n",
       "        16395.        ])"
      ]
     },
     "execution_count": 63,
     "metadata": {},
     "output_type": "execute_result"
    }
   ],
   "source": [
    "from sklearn.ensemble import RandomForestRegressor\n",
    "model = RandomForestRegressor(random_state = 1, n_estimators = 100)\n",
    "model.fit(x_train, y_train)\n",
    "y_pred = model.predict(x_test)\n",
    "y_pred"
   ]
  },
  {
   "cell_type": "code",
   "execution_count": 64,
   "id": "df2cbdf0",
   "metadata": {},
   "outputs": [
    {
     "data": {
      "text/html": [
       "<div>\n",
       "<style scoped>\n",
       "    .dataframe tbody tr th:only-of-type {\n",
       "        vertical-align: middle;\n",
       "    }\n",
       "\n",
       "    .dataframe tbody tr th {\n",
       "        vertical-align: top;\n",
       "    }\n",
       "\n",
       "    .dataframe thead th {\n",
       "        text-align: right;\n",
       "    }\n",
       "</style>\n",
       "<table border=\"1\" class=\"dataframe\">\n",
       "  <thead>\n",
       "    <tr style=\"text-align: right;\">\n",
       "      <th></th>\n",
       "      <th>Actual Value</th>\n",
       "      <th>Predicted Value</th>\n",
       "    </tr>\n",
       "  </thead>\n",
       "  <tbody>\n",
       "    <tr>\n",
       "      <th>4433</th>\n",
       "      <td>35000</td>\n",
       "      <td>68154.000000</td>\n",
       "    </tr>\n",
       "    <tr>\n",
       "      <th>2217</th>\n",
       "      <td>22000</td>\n",
       "      <td>21506.666667</td>\n",
       "    </tr>\n",
       "    <tr>\n",
       "      <th>2165</th>\n",
       "      <td>24000</td>\n",
       "      <td>24755.000000</td>\n",
       "    </tr>\n",
       "    <tr>\n",
       "      <th>1419</th>\n",
       "      <td>25000</td>\n",
       "      <td>34015.000000</td>\n",
       "    </tr>\n",
       "    <tr>\n",
       "      <th>1547</th>\n",
       "      <td>23000</td>\n",
       "      <td>18222.666667</td>\n",
       "    </tr>\n",
       "    <tr>\n",
       "      <th>1351</th>\n",
       "      <td>20000</td>\n",
       "      <td>18714.000000</td>\n",
       "    </tr>\n",
       "    <tr>\n",
       "      <th>2027</th>\n",
       "      <td>16000</td>\n",
       "      <td>15063.000000</td>\n",
       "    </tr>\n",
       "    <tr>\n",
       "      <th>3530</th>\n",
       "      <td>30000</td>\n",
       "      <td>16250.333333</td>\n",
       "    </tr>\n",
       "  </tbody>\n",
       "</table>\n",
       "</div>"
      ],
      "text/plain": [
       "      Actual Value  Predicted Value\n",
       "4433         35000     68154.000000\n",
       "2217         22000     21506.666667\n",
       "2165         24000     24755.000000\n",
       "1419         25000     34015.000000\n",
       "1547         23000     18222.666667\n",
       "1351         20000     18714.000000\n",
       "2027         16000     15063.000000\n",
       "3530         30000     16250.333333"
      ]
     },
     "execution_count": 64,
     "metadata": {},
     "output_type": "execute_result"
    }
   ],
   "source": [
    "comparing = pd.DataFrame({\"Actual Value\":y_test,\"Predicted Value\":y_pred})\n",
    "comparing.sample(8)"
   ]
  },
  {
   "cell_type": "code",
   "execution_count": 65,
   "id": "2235915d",
   "metadata": {},
   "outputs": [
    {
     "data": {
      "text/plain": [
       "0.7492814906939536"
      ]
     },
     "execution_count": 65,
     "metadata": {},
     "output_type": "execute_result"
    }
   ],
   "source": [
    "#model accuracy\n",
    "\n",
    "from sklearn.metrics import r2_score\n",
    "r2_score(y_test,y_pred)"
   ]
  },
  {
   "cell_type": "code",
   "execution_count": 66,
   "id": "5a83a63e",
   "metadata": {},
   "outputs": [
    {
     "name": "stdout",
     "output_type": "stream",
     "text": [
      "ACCURACY % :  74.92814906939536\n"
     ]
    }
   ],
   "source": [
    "#accuracy percent\n",
    "print(\"ACCURACY % : \",r2_score(y_test,y_pred)*100)"
   ]
  },
  {
   "cell_type": "code",
   "execution_count": 67,
   "id": "1ca7474e",
   "metadata": {},
   "outputs": [
    {
     "data": {
      "text/html": [
       "<div>\n",
       "<style scoped>\n",
       "    .dataframe tbody tr th:only-of-type {\n",
       "        vertical-align: middle;\n",
       "    }\n",
       "\n",
       "    .dataframe tbody tr th {\n",
       "        vertical-align: top;\n",
       "    }\n",
       "\n",
       "    .dataframe thead th {\n",
       "        text-align: right;\n",
       "    }\n",
       "</style>\n",
       "<table border=\"1\" class=\"dataframe\">\n",
       "  <thead>\n",
       "    <tr style=\"text-align: right;\">\n",
       "      <th></th>\n",
       "      <th>BHK</th>\n",
       "      <th>Size</th>\n",
       "      <th>Area Type</th>\n",
       "      <th>City</th>\n",
       "      <th>Furnishing Status</th>\n",
       "      <th>Tenant Preferred</th>\n",
       "      <th>Bathroom</th>\n",
       "      <th>Point of Contact</th>\n",
       "      <th>House Floor</th>\n",
       "      <th>Total Floor</th>\n",
       "    </tr>\n",
       "  </thead>\n",
       "  <tbody>\n",
       "    <tr>\n",
       "      <th>0</th>\n",
       "      <td>2</td>\n",
       "      <td>1100</td>\n",
       "      <td>1</td>\n",
       "      <td>4</td>\n",
       "      <td>2</td>\n",
       "      <td>1</td>\n",
       "      <td>2</td>\n",
       "      <td>1</td>\n",
       "      <td>0</td>\n",
       "      <td>2</td>\n",
       "    </tr>\n",
       "    <tr>\n",
       "      <th>1</th>\n",
       "      <td>2</td>\n",
       "      <td>800</td>\n",
       "      <td>1</td>\n",
       "      <td>4</td>\n",
       "      <td>1</td>\n",
       "      <td>1</td>\n",
       "      <td>1</td>\n",
       "      <td>1</td>\n",
       "      <td>1</td>\n",
       "      <td>3</td>\n",
       "    </tr>\n",
       "    <tr>\n",
       "      <th>2</th>\n",
       "      <td>2</td>\n",
       "      <td>1000</td>\n",
       "      <td>1</td>\n",
       "      <td>4</td>\n",
       "      <td>1</td>\n",
       "      <td>1</td>\n",
       "      <td>1</td>\n",
       "      <td>1</td>\n",
       "      <td>1</td>\n",
       "      <td>3</td>\n",
       "    </tr>\n",
       "  </tbody>\n",
       "</table>\n",
       "</div>"
      ],
      "text/plain": [
       "   BHK  Size  Area Type  City  Furnishing Status  Tenant Preferred  Bathroom  \\\n",
       "0    2  1100          1     4                  2                 1         2   \n",
       "1    2   800          1     4                  1                 1         1   \n",
       "2    2  1000          1     4                  1                 1         1   \n",
       "\n",
       "   Point of Contact  House Floor  Total Floor  \n",
       "0                 1            0            2  \n",
       "1                 1            1            3  \n",
       "2                 1            1            3  "
      ]
     },
     "execution_count": 67,
     "metadata": {},
     "output_type": "execute_result"
    }
   ],
   "source": [
    "x.head(3)"
   ]
  },
  {
   "cell_type": "code",
   "execution_count": 68,
   "id": "d28672e4",
   "metadata": {},
   "outputs": [
    {
     "data": {
      "text/plain": [
       "0    10000\n",
       "1    20000\n",
       "2    17000\n",
       "Name: Rent, dtype: int64"
      ]
     },
     "execution_count": 68,
     "metadata": {},
     "output_type": "execute_result"
    }
   ],
   "source": [
    "y.head(3)"
   ]
  },
  {
   "cell_type": "code",
   "execution_count": 69,
   "id": "77cbd7af",
   "metadata": {},
   "outputs": [
    {
     "data": {
      "text/plain": [
       "Index(['BHK', 'Size', 'Area Type', 'City', 'Furnishing Status',\n",
       "       'Tenant Preferred', 'Bathroom', 'Point of Contact', 'House Floor',\n",
       "       'Total Floor'],\n",
       "      dtype='object')"
      ]
     },
     "execution_count": 69,
     "metadata": {},
     "output_type": "execute_result"
    }
   ],
   "source": [
    "x.columns"
   ]
  },
  {
   "cell_type": "code",
   "execution_count": 70,
   "id": "aa1ad6a3",
   "metadata": {},
   "outputs": [
    {
     "data": {
      "text/html": [
       "<div>\n",
       "<style scoped>\n",
       "    .dataframe tbody tr th:only-of-type {\n",
       "        vertical-align: middle;\n",
       "    }\n",
       "\n",
       "    .dataframe tbody tr th {\n",
       "        vertical-align: top;\n",
       "    }\n",
       "\n",
       "    .dataframe thead th {\n",
       "        text-align: right;\n",
       "    }\n",
       "</style>\n",
       "<table border=\"1\" class=\"dataframe\">\n",
       "  <thead>\n",
       "    <tr style=\"text-align: right;\">\n",
       "      <th></th>\n",
       "      <th>BHK</th>\n",
       "      <th>Rent</th>\n",
       "      <th>Size</th>\n",
       "      <th>Floor</th>\n",
       "      <th>Area Type</th>\n",
       "      <th>Area Locality</th>\n",
       "      <th>City</th>\n",
       "      <th>Furnishing Status</th>\n",
       "      <th>Tenant Preferred</th>\n",
       "      <th>Bathroom</th>\n",
       "      <th>Point of Contact</th>\n",
       "    </tr>\n",
       "  </thead>\n",
       "  <tbody>\n",
       "    <tr>\n",
       "      <th>0</th>\n",
       "      <td>2</td>\n",
       "      <td>10000</td>\n",
       "      <td>1100</td>\n",
       "      <td>Ground out of 2</td>\n",
       "      <td>Super Area</td>\n",
       "      <td>Bandel</td>\n",
       "      <td>Kolkata</td>\n",
       "      <td>Unfurnished</td>\n",
       "      <td>Bachelors/Family</td>\n",
       "      <td>2</td>\n",
       "      <td>Contact Owner</td>\n",
       "    </tr>\n",
       "    <tr>\n",
       "      <th>1</th>\n",
       "      <td>2</td>\n",
       "      <td>20000</td>\n",
       "      <td>800</td>\n",
       "      <td>1 out of 3</td>\n",
       "      <td>Super Area</td>\n",
       "      <td>Phool Bagan, Kankurgachi</td>\n",
       "      <td>Kolkata</td>\n",
       "      <td>Semi-Furnished</td>\n",
       "      <td>Bachelors/Family</td>\n",
       "      <td>1</td>\n",
       "      <td>Contact Owner</td>\n",
       "    </tr>\n",
       "    <tr>\n",
       "      <th>2</th>\n",
       "      <td>2</td>\n",
       "      <td>17000</td>\n",
       "      <td>1000</td>\n",
       "      <td>1 out of 3</td>\n",
       "      <td>Super Area</td>\n",
       "      <td>Salt Lake City Sector 2</td>\n",
       "      <td>Kolkata</td>\n",
       "      <td>Semi-Furnished</td>\n",
       "      <td>Bachelors/Family</td>\n",
       "      <td>1</td>\n",
       "      <td>Contact Owner</td>\n",
       "    </tr>\n",
       "  </tbody>\n",
       "</table>\n",
       "</div>"
      ],
      "text/plain": [
       "   BHK   Rent  Size            Floor   Area Type             Area Locality  \\\n",
       "0    2  10000  1100  Ground out of 2  Super Area                    Bandel   \n",
       "1    2  20000   800       1 out of 3  Super Area  Phool Bagan, Kankurgachi   \n",
       "2    2  17000  1000       1 out of 3  Super Area   Salt Lake City Sector 2   \n",
       "\n",
       "      City Furnishing Status  Tenant Preferred  Bathroom Point of Contact  \n",
       "0  Kolkata       Unfurnished  Bachelors/Family         2    Contact Owner  \n",
       "1  Kolkata    Semi-Furnished  Bachelors/Family         1    Contact Owner  \n",
       "2  Kolkata    Semi-Furnished  Bachelors/Family         1    Contact Owner  "
      ]
     },
     "execution_count": 70,
     "metadata": {},
     "output_type": "execute_result"
    }
   ],
   "source": [
    "df2.head(3) #main is df3, this one jus for reference"
   ]
  },
  {
   "cell_type": "code",
   "execution_count": 71,
   "id": "c200d152",
   "metadata": {},
   "outputs": [
    {
     "name": "stdout",
     "output_type": "stream",
     "text": [
      "Enter Property Details : \n",
      "BHK? = 2\n",
      "Size? = 1100\n",
      "Area Type? = 1\n",
      "City? = 4\n",
      "Furnishing Status? = 2\n",
      "Tenant Preferred? = 1\n",
      "No. of Bathrooms? = 2\n",
      "Point of Contact? = 1\n",
      "House Floor? = 0\n",
      "Total Floor? = 2\n",
      "[[   2 1100    1    4    2    1    2    1    0    2]]\n",
      "Predicted House Price :  [10960.71428571]\n"
     ]
    },
    {
     "name": "stderr",
     "output_type": "stream",
     "text": [
      "C:\\Users\\ShahwarN\\Anaconda3\\lib\\site-packages\\sklearn\\base.py:450: UserWarning: X does not have valid feature names, but RandomForestRegressor was fitted with feature names\n",
      "  warnings.warn(\n"
     ]
    }
   ],
   "source": [
    "#individual predictions\n",
    "\n",
    "print('Enter Property Details : ')\n",
    "bhk = int(input(\"BHK? = \"))\n",
    "size = int(input(\"Size? = \"))\n",
    "area_type = int(input(\"Area Type? = \"))\n",
    "#area_type = str(input(\"Area Type? = \"))\n",
    "city = int(input(\"City? = \"))\n",
    "#city = str(input(\"City? = \"))\n",
    "furnishing_stat = int(input(\"Furnishing Status? = \"))\n",
    "#furnishing_stat = str(input(\"Furnishing Status? = \"))\n",
    "tenant_pref = int(input(\"Tenant Preferred? = \"))\n",
    "#tenant_pref = str(input(\"Tenant Preferred? = \"))\n",
    "bathroom = int(input(\"No. of Bathrooms? = \"))\n",
    "poc = int(input(\"Point of Contact? = \"))\n",
    "#poc = str(input(\"Point of Contact? = \"))\n",
    "house_floor = int(input(\"House Floor? = \"))\n",
    "total_floor = int(input(\"Total Floor? = \"))\n",
    "\n",
    "#data = {'BHK':bhk,\n",
    "#       'Size':size,\n",
    " #      'Area Type':area_type,\n",
    "  #     'City':city,\n",
    "   #    'Furnishing Status':furnishing_stat,\n",
    "    #   'Tenant Preferred':tenant_pref,\n",
    "     #  'Bathroom':bathroom,\n",
    "      # 'Point of Contact':poc,\n",
    "       #'House Floor':house_floor,\n",
    "       #'Total Floor':total_floor}\n",
    "\n",
    "data = np.array([[bhk,size,area_type,city,furnishing_stat,tenant_pref,bathroom,poc,house_floor,total_floor]]) #2D array imp\n",
    "#data = [[bhk,size,area_type,city,furnishing_stat,tenant_pref,bathroom,poc,house_floor,total_floor]]\n",
    "print(data)\n",
    "\n",
    "#Label encode\n",
    "the_col = df3.columns\n",
    "for c in col:\n",
    "    if isinstance(df3[c][0], str):\n",
    "        df3[c] = label_encoder.fit_transform(df3[c])\n",
    "\n",
    "print(\"Predicted House Price : \", model.predict(data))\n",
    "\n",
    "#2, 1100, 1, 4, 2, 1, 2, 1, 0, 2  //PRICE:10,000\n",
    "#2\t1100\tSuper Area\tKolkata\tUnfurnished\tBachelors/Family\t2\tContact Owner\t0\t2 //PRICE:10,000"
   ]
  },
  {
   "cell_type": "code",
   "execution_count": 72,
   "id": "e45e0bde",
   "metadata": {},
   "outputs": [],
   "source": [
    "import pickle"
   ]
  },
  {
   "cell_type": "code",
   "execution_count": 73,
   "id": "9f39a241",
   "metadata": {},
   "outputs": [
    {
     "name": "stdout",
     "output_type": "stream",
     "text": [
      "RandomForestRegressor(random_state=1)\n"
     ]
    }
   ],
   "source": [
    "pickle.dump(model,open(r'C:\\Users\\ShahwarN\\model_pickle_4.pkl','wb'))\n",
    "model_load = pickle.load(open(r'C:\\Users\\ShahwarN\\model_pickle_4.pkl','rb'))\n",
    "print(model_load)"
   ]
  },
  {
   "cell_type": "code",
   "execution_count": 74,
   "id": "8b67b505",
   "metadata": {},
   "outputs": [
    {
     "name": "stderr",
     "output_type": "stream",
     "text": [
      "C:\\Users\\ShahwarN\\Anaconda3\\lib\\site-packages\\sklearn\\base.py:450: UserWarning: X does not have valid feature names, but RandomForestRegressor was fitted with feature names\n",
      "  warnings.warn(\n"
     ]
    },
    {
     "data": {
      "text/plain": [
       "array([10960.71428571])"
      ]
     },
     "execution_count": 74,
     "metadata": {},
     "output_type": "execute_result"
    }
   ],
   "source": [
    "# testing model \n",
    "# model_load.predict(x_test)\n",
    "model_load.predict(data)"
   ]
  },
  {
   "cell_type": "code",
   "execution_count": 75,
   "id": "46a6b85a",
   "metadata": {},
   "outputs": [],
   "source": [
    "# SO BASICALLY MODEL CREATED + SAVES + LOADED + TESTED"
   ]
  },
  {
   "attachments": {
    "Screenshot%20%28129%29.png": {
     "image/png": "[encoded data removed]"
    }
   },
   "cell_type": "markdown",
   "id": "1dbbfd8f",
   "metadata": {},
   "source": [
    "![Screenshot%20%28129%29.png](attachment:Screenshot%20%28129%29.png)"
   ]
  },
  {
   "cell_type": "code",
   "execution_count": 76,
   "id": "212fa04f",
   "metadata": {},
   "outputs": [],
   "source": [
    "#with open('model_pickle','rb') as f:\n",
    "#    model_object = pickle.load(f)"
   ]
  },
  {
   "cell_type": "code",
   "execution_count": null,
   "id": "04f8a33b",
   "metadata": {},
   "outputs": [],
   "source": []
  }
 ],
 "metadata": {
  "kernelspec": {
   "display_name": "Python 3 (ipykernel)",
   "language": "python",
   "name": "python3"
  },
  "language_info": {
   "codemirror_mode": {
    "name": "ipython",
    "version": 3
   },
   "file_extension": ".py",
   "mimetype": "text/x-python",
   "name": "python",
   "nbconvert_exporter": "python",
   "pygments_lexer": "ipython3",
   "version": "3.9.12"
  }
 },
 "nbformat": 4,
 "nbformat_minor": 5
}
